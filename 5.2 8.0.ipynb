{
 "cells": [
  {
   "cell_type": "code",
   "execution_count": 4,
   "metadata": {},
   "outputs": [],
   "source": [
    "data = [\n",
    "    (\"FPW-2.0_D\", \"Бонус: Тренажер по HTML\", 10, 100, 10),\n",
    "    (\"FPW-2.0\", \"Бонус: Тренажер по JavaScript\", 9.2, 70, 180),\n",
    "    (\"FPW-2.0_D\", \"Бонус: Тренажер по React\", 8.5, 66.67, 68),\n",
    "    (\"FPW-2.0\", \"Бонусный: IT в современном мире\", 8.64, 83.74, 856),\n",
    "    (\"FPW-2.0\", \"Бонусный: Введение\", 8.73, 56.24, 745),\n",
    "    (\"FPW-2.0\", \"Бонус: D1. Знакомство с Django (NEW)\", 9.76, 95.24, 21),\n",
    "    (\"FPW-2.0_D\", \"Бонус: D2. Модели (NEW)\", 9.44, 77.78, 18)\n",
    "]"
   ]
  },
  {
   "cell_type": "code",
   "execution_count": 7,
   "metadata": {},
   "outputs": [
    {
     "name": "stdout",
     "output_type": "stream",
     "text": [
      "False\n",
      "True\n"
     ]
    }
   ],
   "source": [
    "def filter_module(module):\n",
    "    # Распаковываем кортеж на пять переменных\n",
    "    code, name, avg_votes, nessa, count = module\n",
    "    # Создаём условия \n",
    "    cond_1 = code == \"FPW-2.0\"\n",
    "    cond_2 = nessa >= 70\n",
    "    cond_3 = count > 50\n",
    "    # Условия должны выполняться одновременно\n",
    "    return cond_1 and cond_2 and cond_3\n",
    "print(filter_module(module=(\"FPW-2.0_D\", \"Бонус: Тренажер по HTML\", 10, 100, 10)))\n",
    "print(filter_module(module=(\"FPW-2.0\", \"Бонус: Тренажер по JavaScript\", 9.2, 70, 180)))"
   ]
  },
  {
   "cell_type": "code",
   "execution_count": 8,
   "metadata": {},
   "outputs": [
    {
     "name": "stdout",
     "output_type": "stream",
     "text": [
      "[('FPW-2.0', 'Бонус: Тренажер по JavaScript', 9.2, 70, 180), ('FPW-2.0', 'Бонусный: IT в современном мире', 8.64, 83.74, 856)]\n"
     ]
    }
   ],
   "source": [
    "# Применяем функцию filter_module() для фильтрации списка кортежей\n",
    "filtered_data = list(filter(filter_module, data))\n",
    "print(filtered_data)\n",
    "\n",
    "## Будет выведено:\n",
    "## [('FPW-2.0', 'Бонус: Тренажер по JavaScript', 9.2, 70, 180), ('FPW-2.0', 'Бонусный: IT в современном мире',\n",
    "#  8.64, 83.74, 856)]"
   ]
  },
  {
   "cell_type": "code",
   "execution_count": 9,
   "metadata": {},
   "outputs": [
    {
     "name": "stdout",
     "output_type": "stream",
     "text": [
      "[('FPW-2.0', 'Бонус: Тренажер по JavaScript', 9.2, 70, 180), ('FPW-2.0', 'Бонусный: IT в современном мире', 8.64, 83.74, 856)]\n"
     ]
    }
   ],
   "source": [
    "# Создаём lambda-функцию, которая возвращает True, если модуль удовлетворяет условиям\n",
    "lambda_filter_module = lambda x: (x[0] == \"FPW-2.0\") and (x[3] >= 70) and (x[4] > 50)\n",
    "# Применяем эту функцию к каждому элементу списка (к каждому кортежу)\n",
    "filtered_data = list(filter(lambda_filter_module, data))\n",
    "# Смотрим, что получилось\n",
    "print(filtered_data)\n",
    "\n",
    "## [('FPW-2.0', 'Бонус: Тренажер по JavaScript', 9.2, 70, 180), ('FPW-2.0', 'Бонусный: IT в современном мире',\n",
    "#  8.64, 83.74, 856)]"
   ]
  }
 ],
 "metadata": {
  "kernelspec": {
   "display_name": "Python 3",
   "language": "python",
   "name": "python3"
  },
  "language_info": {
   "codemirror_mode": {
    "name": "ipython",
    "version": 3
   },
   "file_extension": ".py",
   "mimetype": "text/x-python",
   "name": "python",
   "nbconvert_exporter": "python",
   "pygments_lexer": "ipython3",
   "version": "3.11.3"
  },
  "orig_nbformat": 4
 },
 "nbformat": 4,
 "nbformat_minor": 2
}
