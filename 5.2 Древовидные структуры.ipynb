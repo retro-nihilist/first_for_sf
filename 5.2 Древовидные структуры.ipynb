{
 "cells": [
  {
   "cell_type": "code",
   "execution_count": 14,
   "metadata": {},
   "outputs": [
    {
     "name": "stdout",
     "output_type": "stream",
     "text": [
      "значение, лежащее по удаляемому ключу result {'parrent_link': 2, 'child_link': []}\n",
      "идентификатор родителя 2\n",
      "список идентификаторов потомков []\n",
      "parrent_link 2\n",
      "messages {1: {'parrent_link': None, 'child_link': [3, 4]}, 2: {'parrent_link': None, 'child_link': [5]}, 3: {'parrent_link': 1, 'child_link': [6]}, 4: {'parrent_link': 1, 'child_link': []}, 6: {'parrent_link': 3, 'child_link': []}}\n",
      "{1: {'parrent_link': None, 'child_link': [3, 4]}, 2: {'parrent_link': None, 'child_link': []}, 3: {'parrent_link': 1, 'child_link': [6]}, 4: {'parrent_link': 1, 'child_link': []}, 6: {'parrent_link': 3, 'child_link': []}}\n"
     ]
    }
   ],
   "source": [
    "forum_messages = {\n",
    "    1: {'parrent_link': None, 'child_link': [3, 4]},\n",
    "    2: {'parrent_link': None, 'child_link': [5]},\n",
    "    3: {'parrent_link': 1, 'child_link': [6]},\n",
    "    4: {'parrent_link': 1, 'child_link': []},\n",
    "    5: {'parrent_link': 2, 'child_link': []},\n",
    "    6: {'parrent_link': 3, 'child_link': []}\n",
    "}\n",
    "\n",
    "\n",
    "# Функция для удаления сообщения на форуме и всех его потомков\n",
    "def delete_message(messages, msg_id):\n",
    "    # Удаляем из словаря сообщение с идентификатором msg_id\n",
    "    # Метод pop() возвращает значение, лежащее по удаляемому ключу\n",
    "    result = messages.pop(msg_id)\n",
    "    print('значение, лежащее по удаляемому ключу result',result)\n",
    "    # Получаем идентификатор родителя\n",
    "    parrent_link = result['parrent_link']\n",
    "    print (\"идентификатор родителя\", parrent_link)\n",
    "    # Получаем список идентификаторов потомков\n",
    "    child_link = result['child_link']\n",
    "    print (\"список идентификаторов потомков\", child_link)\n",
    "    # Если у сообщения был родитель и он ещё не был удален\n",
    "    # Эта запись будет аналогична parrent_link is not None\n",
    "    print(\"parrent_link\", parrent_link)\n",
    "    print (\"messages\", messages)\n",
    "    if parrent_link and parrent_link in messages:\n",
    "        # Обращаемся к словарю messages по ключу родителя\n",
    "        # Удаляем потомка из списка потомков\n",
    "        messages[parrent_link]['child_link'].remove(msg_id)\n",
    "    # Если у сообщения были потомки\n",
    "    # Эта запись будет аналогична child_link == []\n",
    "    if child_link:\n",
    "        # В цикле проходимся по всем потомкам \n",
    "        for child_id in child_link:\n",
    "            # И повторяем те же самые действия для каждого из них\n",
    "            # (рекурсивно вызываем функцию delete_message)\n",
    "            delete_message(messages, msg_id=child_id)\n",
    "    return messages\n",
    "\n",
    "print(delete_message(forum_messages, msg_id=5))\n",
    "#print(delete_message(forum_messages, msg_id=3))\n",
    "#print(delete_message(forum_messages, msg_id=1))"
   ]
  },
  {
   "cell_type": "code",
   "execution_count": 28,
   "metadata": {},
   "outputs": [
    {
     "name": "stdout",
     "output_type": "stream",
     "text": [
      "key1 ->\n",
      "  key2 ->\n",
      "    ['value1', 'value2']\n",
      "  key3 ->\n",
      "    key4 ->\n",
      "      ['value3']\n",
      "key5 ->\n",
      "  key6 ->\n",
      "    key7 ->\n",
      "      ['value3', 'value5', 'value6']\n",
      "None\n"
     ]
    }
   ],
   "source": [
    "def print_dict(input_data, level=0):\n",
    "    # Если input_data — словарь \n",
    "    if type(input_data) is dict:\n",
    "        # Создаём цикл по ключам словаря\n",
    "        for key in input_data:\n",
    "            # Выводим ключ в формате \"<пробелы> <имя ключа> ->\"\n",
    "            #print(\"test\",'1' * 2)\n",
    "            print('  ' * level + '{} ->'.format(key))\n",
    "            # Повторяем те же операции для каждого значения словаря\n",
    "            print_dict(input_data[key], level=level+1)  \n",
    "    else: # В противном случае\n",
    "        # Выводим значения в формате \"<пробелы> <значения>\"\n",
    "        print('  ' * level + str(input_data)) \n",
    "\n",
    "input_dict = {\n",
    "    'key1': {\n",
    "        'key2': ['value1', 'value2'], \n",
    "        'key3': {\n",
    "            'key4': ['value3']\n",
    "        }\n",
    "    }, \n",
    "    'key5': {\n",
    "        'key6': {\n",
    "            'key7': ['value3', 'value5', 'value6']\n",
    "        }\n",
    "    }\n",
    "}\n",
    "\n",
    "print (print_dict(input_dict))"
   ]
  }
 ],
 "metadata": {
  "kernelspec": {
   "display_name": "Python 3",
   "language": "python",
   "name": "python3"
  },
  "language_info": {
   "codemirror_mode": {
    "name": "ipython",
    "version": 3
   },
   "file_extension": ".py",
   "mimetype": "text/x-python",
   "name": "python",
   "nbconvert_exporter": "python",
   "pygments_lexer": "ipython3",
   "version": "3.11.3"
  },
  "orig_nbformat": 4
 },
 "nbformat": 4,
 "nbformat_minor": 2
}
