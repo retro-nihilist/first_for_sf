{
 "cells": [
  {
   "cell_type": "markdown",
   "metadata": {},
   "source": [
    "Дано два файла:\n",
    "orders.csv, содержащий данные о заказах;\n",
    "products.csv, содержащий данные о товарах.\n",
    "\n",
    "Прочитайте данные файлы, посмотрите на содержимое таблиц и проанализируйте его.\n",
    "Подумайте, как связаны данные таблицы (какими ключевыми столбцами).\n",
    "Объедините заданные таблицы в таблицу orders_products, чтобы в результирующей таблице оказалась информация обо всех заказах, но не оказалось информации о продуктах, на которых заказов ещё не поступало. \n",
    "\n",
    "Ответьте на несколько вопросов по таблице orders_products ↓"
   ]
  },
  {
   "cell_type": "code",
   "execution_count": 1,
   "metadata": {},
   "outputs": [
    {
     "name": "stdout",
     "output_type": "stream",
     "text": [
      "['dates.csv', 'melb_data_fe.csv', 'movies.csv', 'orders.csv', 'products.csv', 'ratings1.csv', 'ratings2.csv', 'ratings_movies.csv']\n",
      "<class 'pandas.core.frame.DataFrame'>\n",
      "RangeIndex: 18 entries, 0 to 17\n",
      "Data columns (total 9 columns):\n",
      " #   Column         Non-Null Count  Dtype \n",
      "---  ------         --------------  ----- \n",
      " 0   Дата создания  18 non-null     object\n",
      " 1   Order ID       18 non-null     int64 \n",
      " 2   ID Покупателя  18 non-null     int64 \n",
      " 3   Статус         18 non-null     object\n",
      " 4   Оплачен        18 non-null     object\n",
      " 5   Отменен        18 non-null     object\n",
      " 6   Отгружен       18 non-null     object\n",
      " 7   ID товара      18 non-null     int64 \n",
      " 8   Количество     18 non-null     int64 \n",
      "dtypes: int64(4), object(5)\n",
      "memory usage: 1.4+ KB\n",
      "<class 'pandas.core.frame.DataFrame'>\n",
      "RangeIndex: 14 entries, 0 to 13\n",
      "Data columns (total 4 columns):\n",
      " #   Column      Non-Null Count  Dtype \n",
      "---  ------      --------------  ----- \n",
      " 0   Product_ID  14 non-null     int64 \n",
      " 1   Name        14 non-null     object\n",
      " 2   Price       14 non-null     int64 \n",
      " 3   CURRENCY    14 non-null     object\n",
      "dtypes: int64(2), object(2)\n",
      "memory usage: 580.0+ bytes\n"
     ]
    }
   ],
   "source": [
    "import pandas as pd\n",
    "import os\n",
    "os.chdir(r'C:\\unique_data\\rep_fo_sf\\PYTHON_12_Pandas\\data')\n",
    "\n",
    "print(os.listdir())\n",
    "\n",
    "\"\"\"https://app.pachca.com/chats?thread_id=674332\"\"\"\n",
    "\n",
    "orders_tab = pd.read_csv('orders.csv',sep = ';')\n",
    "products_tab = pd.read_csv('products.csv',sep = ';')\n",
    "orders_tab.info()\n",
    "products_tab.info()\n"
   ]
  },
  {
   "cell_type": "code",
   "execution_count": 2,
   "metadata": {},
   "outputs": [
    {
     "name": "stdout",
     "output_type": "stream",
     "text": [
      "17    0\n",
      "Name: Order ID, dtype: int64\n"
     ]
    },
    {
     "data": {
      "text/plain": [
       "\"Этот код найдет заказы в датафрейме orders_tab, для которых значение в столбце 'ID товара' отсутствует в датафрейме products_tab.\\nЗатем он выведет идентификаторы (Order ID) таких заказов, которые не имеют информации о товаре.\\n, знак ~ используется как оператор отрицания в данном контексте. Он инвертирует булевые значения в pandas Series,\\nто есть меняет True на False и наоборот. В данном случае, мы хотим найти заказы, для которых значение\\n в столбце 'ID товара' не присутствует в датафрейме products_tab, и мы инвертируем условие с ~, чтобы найти такие заказы.\\nИтак, строка missing_product_orders = orders_tab[~orders_tab['ID товара'].isin(products_tab['Product_ID'])] фильтрует заказы \\nв orders_tab, исключая те, для которых 'ID товара' существует в products_tab. Таким образом, missing_product_orders будет \\nсодержать только заказы без информации о товаре.\""
      ]
     },
     "execution_count": 2,
     "metadata": {},
     "output_type": "execute_result"
    }
   ],
   "source": [
    "\"\"\"Задание 8.8 Какой идентификатор (Order ID) имеет заказ, для которого не оказалось информации о товаре?\"\"\"\n",
    "missing_product_orders = orders_tab[~orders_tab['ID товара'].isin(products_tab['Product_ID'])]\n",
    "#print(missing_product_orders)\n",
    "missing_order_id = missing_product_orders['Order ID']\n",
    "print(missing_order_id)\n",
    "\"\"\"Этот код найдет заказы в датафрейме orders_tab, для которых значение в столбце 'ID товара' отсутствует в датафрейме products_tab.\n",
    "Затем он выведет идентификаторы (Order ID) таких заказов, которые не имеют информации о товаре.\n",
    ", знак ~ используется как оператор отрицания в данном контексте. Он инвертирует булевые значения в pandas Series,\n",
    "то есть меняет True на False и наоборот. В данном случае, мы хотим найти заказы, для которых значение\n",
    " в столбце 'ID товара' не присутствует в датафрейме products_tab, и мы инвертируем условие с ~, чтобы найти такие заказы.\n",
    "Итак, строка missing_product_orders = orders_tab[~orders_tab['ID товара'].isin(products_tab['Product_ID'])] фильтрует заказы \n",
    "в orders_tab, исключая те, для которых 'ID товара' существует в products_tab. Таким образом, missing_product_orders будет \n",
    "содержать только заказы без информации о товаре.\"\"\""
   ]
  },
  {
   "cell_type": "code",
   "execution_count": 3,
   "metadata": {},
   "outputs": [
    {
     "name": "stdout",
     "output_type": "stream",
     "text": [
      "9    Носки беговые Camino\n",
      "Name: Name, dtype: object\n"
     ]
    }
   ],
   "source": [
    "\"\"\"Задание 8.9 На какой товар была произведена отмена? В качестве ответа запишите название этого товара (Name).\"\"\"\n",
    "\n",
    "cancel_id_index = orders_tab[orders_tab[\"Отменен\"]==\"Да\"]\n",
    "cancel_id_items = cancel_id_index[\"ID товара\"]# Извлекаем данные по колонке \"ID товара\"\n",
    "\n",
    "# Ищем соответствующее значение в таблице products_tab\n",
    "product_names = products_tab[products_tab[\"Product_ID\"].isin(cancel_id_items)][\"Name\"]\n",
    "\n",
    "print(product_names)"
   ]
  },
  {
   "cell_type": "code",
   "execution_count": 4,
   "metadata": {},
   "outputs": [
    {
     "data": {
      "text/html": [
       "<div>\n",
       "<style scoped>\n",
       "    .dataframe tbody tr th:only-of-type {\n",
       "        vertical-align: middle;\n",
       "    }\n",
       "\n",
       "    .dataframe tbody tr th {\n",
       "        vertical-align: top;\n",
       "    }\n",
       "\n",
       "    .dataframe thead th {\n",
       "        text-align: right;\n",
       "    }\n",
       "</style>\n",
       "<table border=\"1\" class=\"dataframe\">\n",
       "  <thead>\n",
       "    <tr style=\"text-align: right;\">\n",
       "      <th></th>\n",
       "      <th>Дата создания</th>\n",
       "      <th>Order ID</th>\n",
       "      <th>ID Покупателя</th>\n",
       "      <th>Статус</th>\n",
       "      <th>Оплачен</th>\n",
       "      <th>Отменен</th>\n",
       "      <th>Отгружен</th>\n",
       "      <th>ID товара</th>\n",
       "      <th>Количество</th>\n",
       "    </tr>\n",
       "  </thead>\n",
       "  <tbody>\n",
       "    <tr>\n",
       "      <th>0</th>\n",
       "      <td>09.11.2019 21:55:51</td>\n",
       "      <td>9</td>\n",
       "      <td>10</td>\n",
       "      <td>Принят, ожидается оплата</td>\n",
       "      <td>Нет</td>\n",
       "      <td>Нет</td>\n",
       "      <td>Нет</td>\n",
       "      <td>103</td>\n",
       "      <td>5</td>\n",
       "    </tr>\n",
       "    <tr>\n",
       "      <th>1</th>\n",
       "      <td>09.11.2019 15:05:57</td>\n",
       "      <td>8</td>\n",
       "      <td>9</td>\n",
       "      <td>Принят, ожидается оплата</td>\n",
       "      <td>Нет</td>\n",
       "      <td>Нет</td>\n",
       "      <td>Нет</td>\n",
       "      <td>86</td>\n",
       "      <td>100</td>\n",
       "    </tr>\n",
       "    <tr>\n",
       "      <th>2</th>\n",
       "      <td>09.11.2019 15:05:57</td>\n",
       "      <td>8</td>\n",
       "      <td>9</td>\n",
       "      <td>Принят, ожидается оплата</td>\n",
       "      <td>Нет</td>\n",
       "      <td>Нет</td>\n",
       "      <td>Нет</td>\n",
       "      <td>104</td>\n",
       "      <td>10</td>\n",
       "    </tr>\n",
       "    <tr>\n",
       "      <th>3</th>\n",
       "      <td>09.11.2019 12:50:07</td>\n",
       "      <td>7</td>\n",
       "      <td>8</td>\n",
       "      <td>Принят, ожидается оплата</td>\n",
       "      <td>Нет</td>\n",
       "      <td>Нет</td>\n",
       "      <td>Нет</td>\n",
       "      <td>104</td>\n",
       "      <td>7</td>\n",
       "    </tr>\n",
       "    <tr>\n",
       "      <th>4</th>\n",
       "      <td>09.11.2019 12:00:00</td>\n",
       "      <td>6</td>\n",
       "      <td>1</td>\n",
       "      <td>Принят, ожидается оплата</td>\n",
       "      <td>Нет</td>\n",
       "      <td>Нет</td>\n",
       "      <td>Нет</td>\n",
       "      <td>104</td>\n",
       "      <td>5</td>\n",
       "    </tr>\n",
       "  </tbody>\n",
       "</table>\n",
       "</div>"
      ],
      "text/plain": [
       "         Дата создания  Order ID  ID Покупателя                    Статус  \\\n",
       "0  09.11.2019 21:55:51         9             10  Принят, ожидается оплата   \n",
       "1  09.11.2019 15:05:57         8              9  Принят, ожидается оплата   \n",
       "2  09.11.2019 15:05:57         8              9  Принят, ожидается оплата   \n",
       "3  09.11.2019 12:50:07         7              8  Принят, ожидается оплата   \n",
       "4  09.11.2019 12:00:00         6              1  Принят, ожидается оплата   \n",
       "\n",
       "  Оплачен Отменен Отгружен  ID товара  Количество  \n",
       "0     Нет     Нет      Нет        103           5  \n",
       "1     Нет     Нет      Нет         86         100  \n",
       "2     Нет     Нет      Нет        104          10  \n",
       "3     Нет     Нет      Нет        104           7  \n",
       "4     Нет     Нет      Нет        104           5  "
      ]
     },
     "execution_count": 4,
     "metadata": {},
     "output_type": "execute_result"
    }
   ],
   "source": [
    "orders_tab.head()"
   ]
  },
  {
   "cell_type": "code",
   "execution_count": 5,
   "metadata": {},
   "outputs": [
    {
     "name": "stdout",
     "output_type": "stream",
     "text": [
      "Идентификатор покупателя с наибольшей суммой покупок: 7\n"
     ]
    }
   ],
   "source": [
    "\"\"\"Задание 8.10 Какой покупатель принёс наибольшую суммарную прибыль интернет-магазину за указанный период?\n",
    "В ответ запишите идентификатор этого покупателя (ID Покупателя).\n",
    "Прибыль состоит только из оплаченных заказов и рассчитывается как количество купленного товара, умноженное на его цену.\"\"\"\n",
    "# Объединить таблицы по столбцу \"ID товара\" / \"Product_ID\"\n",
    "merged_data = orders_tab.merge(products_tab, left_on=\"ID товара\", right_on=\"Product_ID\")\n",
    "\n",
    "merged_data = merged_data[merged_data[\"Оплачен\"] == \"Да\"]\n",
    "\n",
    "# Вычислить сумму покупок для каждого покупателя\n",
    "customer_purchases = merged_data.groupby(\"ID Покупателя\")[\"Price\"].sum()\n",
    "\n",
    "# Найти покупателя с максимальной суммой покупок\n",
    "customer_with_max_purchase = customer_purchases.idxmax()\n",
    "\n",
    "print(\"Идентификатор покупателя с наибольшей суммой покупок:\", customer_with_max_purchase)\n"
   ]
  }
 ],
 "metadata": {
  "kernelspec": {
   "display_name": "Python 3",
   "language": "python",
   "name": "python3"
  },
  "language_info": {
   "codemirror_mode": {
    "name": "ipython",
    "version": 3
   },
   "file_extension": ".py",
   "mimetype": "text/x-python",
   "name": "python",
   "nbconvert_exporter": "python",
   "pygments_lexer": "ipython3",
   "version": "3.11.6"
  }
 },
 "nbformat": 4,
 "nbformat_minor": 2
}
