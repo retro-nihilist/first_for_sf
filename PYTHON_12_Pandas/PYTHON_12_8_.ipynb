{
 "cells": [
  {
   "cell_type": "markdown",
   "metadata": {},
   "source": [
    "Профессия Data Science\n",
    "Блок 1. Знакомство с данными. Python для анализа данных\n",
    "PYTHON-12. Продвинутые методы работы с данными в Pandas\n",
    "9/12   8. Закрепление знаний"
   ]
  },
  {
   "cell_type": "code",
   "execution_count": 40,
   "metadata": {},
   "outputs": [
    {
     "data": {
      "text/html": [
       "<div>\n",
       "<style scoped>\n",
       "    .dataframe tbody tr th:only-of-type {\n",
       "        vertical-align: middle;\n",
       "    }\n",
       "\n",
       "    .dataframe tbody tr th {\n",
       "        vertical-align: top;\n",
       "    }\n",
       "\n",
       "    .dataframe thead th {\n",
       "        text-align: right;\n",
       "    }\n",
       "</style>\n",
       "<table border=\"1\" class=\"dataframe\">\n",
       "  <thead>\n",
       "    <tr style=\"text-align: right;\">\n",
       "      <th></th>\n",
       "      <th>Unnamed: 0</th>\n",
       "      <th>userId</th>\n",
       "      <th>movieId</th>\n",
       "      <th>rating</th>\n",
       "      <th>date</th>\n",
       "      <th>title</th>\n",
       "      <th>genres</th>\n",
       "    </tr>\n",
       "  </thead>\n",
       "  <tbody>\n",
       "    <tr>\n",
       "      <th>0</th>\n",
       "      <td>0</td>\n",
       "      <td>1</td>\n",
       "      <td>1</td>\n",
       "      <td>4.0</td>\n",
       "      <td>2000-07-30 18:45:03</td>\n",
       "      <td>Toy Story (1995)</td>\n",
       "      <td>Adventure|Animation|Children|Comedy|Fantasy</td>\n",
       "    </tr>\n",
       "    <tr>\n",
       "      <th>1</th>\n",
       "      <td>1</td>\n",
       "      <td>1</td>\n",
       "      <td>3</td>\n",
       "      <td>4.0</td>\n",
       "      <td>2000-07-30 18:20:47</td>\n",
       "      <td>Grumpier Old Men (1995)</td>\n",
       "      <td>Comedy|Romance</td>\n",
       "    </tr>\n",
       "    <tr>\n",
       "      <th>2</th>\n",
       "      <td>2</td>\n",
       "      <td>1</td>\n",
       "      <td>6</td>\n",
       "      <td>4.0</td>\n",
       "      <td>2000-07-30 18:37:04</td>\n",
       "      <td>Heat (1995)</td>\n",
       "      <td>Action|Crime|Thriller</td>\n",
       "    </tr>\n",
       "    <tr>\n",
       "      <th>3</th>\n",
       "      <td>3</td>\n",
       "      <td>1</td>\n",
       "      <td>47</td>\n",
       "      <td>5.0</td>\n",
       "      <td>2000-07-30 19:03:35</td>\n",
       "      <td>Seven (a.k.a. Se7en) (1995)</td>\n",
       "      <td>Mystery|Thriller</td>\n",
       "    </tr>\n",
       "    <tr>\n",
       "      <th>4</th>\n",
       "      <td>4</td>\n",
       "      <td>1</td>\n",
       "      <td>50</td>\n",
       "      <td>5.0</td>\n",
       "      <td>2000-07-30 18:48:51</td>\n",
       "      <td>Usual Suspects, The (1995)</td>\n",
       "      <td>Crime|Mystery|Thriller</td>\n",
       "    </tr>\n",
       "  </tbody>\n",
       "</table>\n",
       "</div>"
      ],
      "text/plain": [
       "   Unnamed: 0  userId  movieId  rating                 date  \\\n",
       "0           0       1        1     4.0  2000-07-30 18:45:03   \n",
       "1           1       1        3     4.0  2000-07-30 18:20:47   \n",
       "2           2       1        6     4.0  2000-07-30 18:37:04   \n",
       "3           3       1       47     5.0  2000-07-30 19:03:35   \n",
       "4           4       1       50     5.0  2000-07-30 18:48:51   \n",
       "\n",
       "                         title                                       genres  \n",
       "0             Toy Story (1995)  Adventure|Animation|Children|Comedy|Fantasy  \n",
       "1      Grumpier Old Men (1995)                               Comedy|Romance  \n",
       "2                  Heat (1995)                        Action|Crime|Thriller  \n",
       "3  Seven (a.k.a. Se7en) (1995)                             Mystery|Thriller  \n",
       "4   Usual Suspects, The (1995)                       Crime|Mystery|Thriller  "
      ]
     },
     "execution_count": 40,
     "metadata": {},
     "output_type": "execute_result"
    }
   ],
   "source": [
    "import pandas as pd\n",
    "ratings_movies_tab = pd.read_csv('data/ratings_movies.csv')\n",
    "ratings_movies_tab.head()\n",
    "#ratings1_tab.info()"
   ]
  },
  {
   "cell_type": "code",
   "execution_count": null,
   "metadata": {},
   "outputs": [],
   "source": [
    "\"\"\"выделить из признака title год выпуска фильма. Для этого напишем функцию get_year_release(arg).\"\"\"\n",
    "#библиотека для регулярных выражений\n",
    "import re \n",
    "def get_year_release(arg):\n",
    "    #находим все слова по шаблону \"(DDDD)\"\n",
    "    candidates = re.findall(r'\\(\\d{4}\\)', arg) \n",
    "    # проверяем число вхождений\n",
    "    if len(candidates) > 0:\n",
    "        #если число вхождений больше 0,\n",
    "\t    #очищаем строку от знаков \"(\" и \")\"\n",
    "        year = candidates[0].replace('(', '')\n",
    "        year = year.replace(')', '')\n",
    "        return int(year)\n",
    "    else:\n",
    "        #если год не указан, возвращаем None\n",
    "        return None"
   ]
  },
  {
   "cell_type": "code",
   "execution_count": null,
   "metadata": {},
   "outputs": [],
   "source": [
    "\"\"\"Задание 8.1 Создайте в таблице новый признак year_release, который соответствует году выпуска фильма.\n",
    "У скольких фильмов не указан год их выпуска?\"\"\"\n",
    "\n",
    "ratings_movies_tab[\"year_release\"] = ratings_movies_tab[\"title\"].apply(get_year_release)\n",
    "ratings_movies_tab.head()"
   ]
  },
  {
   "cell_type": "code",
   "execution_count": null,
   "metadata": {},
   "outputs": [],
   "source": [
    "\"\"\"Задание 8.2 Какой фильм, выпущенный в 1999 году, получил наименьшую среднюю оценку зрителей?\n",
    "В качестве ответа запишите название этого фильма без указания года его выпуска.\n",
    "\"\"\"\n",
    "df = ratings_movies_tab\n",
    "\n",
    "# Фильтруем строки по условию year_release == 1999\n",
    "filtered_df = df[df['year_release'] == 1999]\n",
    "\n",
    "# Группируем по столбцу 'title' и рассчитываем среднее значение оценок\n",
    "result_df = filtered_df.groupby('title')['rating'].mean().reset_index()\n",
    "\n",
    "# Переименовываем столбцы\n",
    "result_df.columns = ['Film', 'Average Rating']\n",
    "\n",
    "# Находим фильм с минимальной средней оценкой\n",
    "min_rating_film = result_df[result_df['Average Rating'] == result_df['Average Rating'].min()]\n",
    "\n",
    "print(min_rating_film)\n"
   ]
  },
  {
   "cell_type": "code",
   "execution_count": null,
   "metadata": {},
   "outputs": [],
   "source": [
    "\"\"\"Задание 8.3 Какое сочетание жанров фильмов (genres), выпущенных в 2010 году, получило наименьшую среднюю оценку (rating)?\n",
    "Запишите сочетание так же, как оно указано в таблице (через разделитель |, без пробелов).\"\"\"\n",
    "\n",
    "# Отфильтровать фильмы, выпущенные в 2010 году\n",
    "films_2010 = df[df['year_release'] == 2010]\n",
    "\n",
    "# Группировать фильмы по жанрам и вычислить среднюю оценку\n",
    "genres_ratings = films_2010.groupby('genres')['rating'].mean()\n",
    "\n",
    "# Найти сочетание жанров с минимальной средней оценкой\n",
    "min_rating_genre = genres_ratings.idxmin()\n",
    "\n",
    "print(\"Сочетание жанров с наименьшей средней оценкой в 2010 году:\", min_rating_genre)"
   ]
  },
  {
   "cell_type": "code",
   "execution_count": null,
   "metadata": {},
   "outputs": [],
   "source": [
    "\"\"\"Задание 8.4 Какой пользователь (userId) посмотрел наибольшее количество различных (уникальных) комбинаций жанров (genres) фильмов?\n",
    "В качестве ответа запишите идентификатор этого пользователя.\"\"\"\n",
    "\n",
    "# Сгруппировать фильмы по пользователю и посчитать уникальные комбинации жанров\n",
    "user_genre_counts = df.groupby('userId')['genres'].nunique()\n",
    "\n",
    "# Найти пользователя с максимальным количеством уникальных комбинаций жанров\n",
    "max_genre_watcher = user_genre_counts.idxmax()\n",
    "\n",
    "print(\"Пользователь (userId) с наибольшим количеством уникальных комбинаций жанров:\", max_genre_watcher)\n"
   ]
  },
  {
   "cell_type": "code",
   "execution_count": null,
   "metadata": {},
   "outputs": [],
   "source": [
    "\"\"\"Задание 8.5 \n",
    "Найдите пользователя, который выставил наименьшее количество оценок, но его средняя оценка фильмам наибольшая.\n",
    "В качестве ответа укажите идентификатор этого пользователя.\n",
    "Чтобы рассчитать несколько параметров для каждого пользователя (количество оценок и среднюю оценку),\n",
    "можно воспользоваться методом agg() на сгруппированных данных.\"\"\"\n",
    "\n",
    "# Сгруппировать фильмы по пользователю и рассчитать количество оценок (рейтингов) и среднюю оценку\n",
    "user_stats = df.groupby('userId').agg({'rating': ['count', 'mean']})\n",
    "\n",
    "# Найти пользователя с наименьшим количеством оценок, но наибольшей средней оценкой\n",
    "user_with_min_ratings = user_stats[user_stats[('rating', 'count')] == user_stats[('rating', 'count')].min()]\n",
    "user_with_max_avg_rating = user_with_min_ratings[user_with_min_ratings[('rating', 'mean')] == user_with_min_ratings[('rating', 'mean')].max()]\n",
    "\n",
    "result_user_id = user_with_max_avg_rating.index[0]\n",
    "\n",
    "print(\"Пользователь (userId) с наименьшим количеством оценок, но наибольшей средней оценкой:\", result_user_id)\n",
    "\n"
   ]
  },
  {
   "cell_type": "code",
   "execution_count": null,
   "metadata": {},
   "outputs": [],
   "source": [
    "\"\"\"Задание 8.6 Найдите сочетание жанров (genres) за 2018 год, которое имеет наибольший средний рейтинг (среднее по столбцу rating),\n",
    "и при этом число выставленных ему оценок (количество значений в столбце rating) больше 10.\n",
    "Запишите сочетание так же, как оно указано в таблице (через разделитель |, без пробелов).\"\"\"\n",
    "# Фильтрация фильмов, выпущенных в 2018 году\n",
    "movies_2018 = df[df['year_release'] == 2018]\n",
    "\n",
    "# Группировка фильмов по сочетаниям жанров (genres)\n",
    "genre_combinations = movies_2018.groupby('genres')\n",
    "\n",
    "# Фильтрация комбинаций жанров с числом оценок больше 10 и вычисление среднего рейтинга\n",
    "filtered_genre_combinations = genre_combinations.filter(lambda x: len(x) > 10)\n",
    "mean_ratings = filtered_genre_combinations.groupby('genres')['rating'].mean()\n",
    "\n",
    "# Нахождение сочетания жанров с максимальным средним рейтингом\n",
    "max_avg_rating_genre = mean_ratings.idxmax()\n",
    "\n",
    "print(\"Сочетание жанров (genres) за 2018 год с наибольшим средним рейтингом и более чем 10 оценками:\", max_avg_rating_genre)\n"
   ]
  },
  {
   "cell_type": "markdown",
   "metadata": {},
   "source": [
    "Задание 8.7 Добавьте в таблицу новый признак year_rating — год выставления оценки. Создайте сводную таблицу, которая иллюстрирует зависимость среднего рейтинга фильма от года выставления оценки и жанра. Выберите верные варианты ответа, исходя из построенной таблицы:"
   ]
  },
  {
   "cell_type": "code",
   "execution_count": null,
   "metadata": {},
   "outputs": [],
   "source": [
    "\"\"\"A За весь период (с 1996 по 2018 год) сочетание жанров Action|Adventure ни разу не получало среднюю оценку ниже 3.\"\"\"\n",
    "\n",
    "# Преобразование столбца 'date' в формат datetime и извлечение года\n",
    "df['date'] = pd.to_datetime(df['date'])\n",
    "df['year_rating'] = df['date'].dt.year\n",
    "\n",
    "# Отфильтровать данные по заданному периоду и жанру\n",
    "filtered_df = df[(df['year_rating'] >= 1996) & (df['year_rating'] <= 2018) & (df['genres'] == 'Action|Adventure')]\n",
    "\n",
    "# Рассчитать минимальную среднюю оценку\n",
    "min_mean_rating = filtered_df['rating'].mean()\n",
    "\n",
    "# Вывести минимальную среднюю оценку\n",
    "print(min_mean_rating)"
   ]
  },
  {
   "cell_type": "code",
   "execution_count": null,
   "metadata": {},
   "outputs": [],
   "source": [
    "\"\"\"B Наилучшую оценку жанр Action|Adventure|Animation|Children|Comedy|IMAX получил в 2010 году.\"\"\"\n",
    "\n",
    "# Преобразование столбца 'date' в формат datetime и извлечение года\n",
    "df['date'] = pd.to_datetime(df['date'])\n",
    "df['year_rating'] = df['date'].dt.year\n",
    "\n",
    "# Фильтрация данных по жанру \"Action|Adventure|Animation|Children|Comedy|IMAX\"\n",
    "filtered_df = df[df['genres'] == 'Action|Adventure|Animation|Children|Comedy|IMAX']\n",
    "\n",
    "# Группировка данных по году и рассчёт средней оценки для каждого года\n",
    "average_ratings = filtered_df.groupby('year_rating')['rating'].mean()\n",
    "\n",
    "# Нахождение года с наилучшей средней оценкой\n",
    "best_year = average_ratings.idxmax()\n",
    "\n",
    "# Вывод года с наилучшей средней оценкой\n",
    "print(best_year)"
   ]
  },
  {
   "cell_type": "code",
   "execution_count": null,
   "metadata": {},
   "outputs": [],
   "source": [
    "\"\"\"D Для жанра Comedy прослеживается тенденция падения рейтинга с каждым годом (с 1996 по 2018).\"\"\"\n",
    "\n",
    "# Преобразование столбца 'date' в формат datetime и извлечение года\n",
    "df['date'] = pd.to_datetime(df['date'])\n",
    "df['year_rating'] = df['date'].dt.year\n",
    "\n",
    "# Фильтрация данных по жанру \"Comedy\" и периоду с 1996 по 2018 год\n",
    "filtered_df = df[(df['genres'].str.contains('Comedy')) & (df['year_rating'] >= 1996) & (df['year_rating'] <= 2018)]\n",
    "\n",
    "# Группировка данных по году и рассчёт средней оценки для каждого года\n",
    "average_ratings = filtered_df.groupby('year_rating')['rating'].mean().reset_index()\n",
    "\n",
    "# Вывод таблицы с рейтингом жанра Comedy с 1996 по 2018\n",
    "print(average_ratings)\n"
   ]
  },
  {
   "cell_type": "code",
   "execution_count": null,
   "metadata": {},
   "outputs": [],
   "source": [
    "\n",
    "\n"
   ]
  }
 ],
 "metadata": {
  "kernelspec": {
   "display_name": "Python 3",
   "language": "python",
   "name": "python3"
  },
  "language_info": {
   "codemirror_mode": {
    "name": "ipython",
    "version": 3
   },
   "file_extension": ".py",
   "mimetype": "text/x-python",
   "name": "python",
   "nbconvert_exporter": "python",
   "pygments_lexer": "ipython3",
   "version": "3.11.6"
  }
 },
 "nbformat": 4,
 "nbformat_minor": 2
}
