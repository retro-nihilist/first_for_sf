{
 "cells": [
  {
   "cell_type": "markdown",
   "metadata": {},
   "source": [
    "АТРИБУТЫ И МЕТОДЫ\n",
    "\n",
    "Мы создали объект по пустому классу. Давайте добавим ему данные. Сделаем класс для отчётов по продажам SalesReport. Пусть у нас в компании есть менеджеры по продажам, которые заключают сделки, и мы хотим посчитать для них метрики общего объёма продаж."
   ]
  },
  {
   "cell_type": "code",
   "execution_count": 1,
   "metadata": {},
   "outputs": [
    {
     "name": "stdout",
     "output_type": "stream",
     "text": [
      "Total amount: 10\n",
      "Total amount: 20\n"
     ]
    }
   ],
   "source": [
    " # По-прежнему пока создаём пустой класс  \n",
    "class SalesReport():  \n",
    "    pass  \n",
    "  \n",
    "# Создаём первый отчёт по продажам   \n",
    "report = SalesReport()  \n",
    "  \n",
    "# Мы добавим новый атрибут объекту.  \n",
    "# Для этого через точку напишем имя атрибута и дальше как с обычной переменной  \n",
    "report.amount = 10  \n",
    "  \n",
    "# То же самое делаем для второго отчёта.  \n",
    "report_2 = SalesReport()  \n",
    "report_2.amount = 20  \n",
    "  \n",
    "# Создадим вспомогательную функцию, она будет печатать общую сумму из отчёта  \n",
    "def print_report(report):  \n",
    "    print(\"Total amount:\", report.amount)  \n",
    "      \n",
    "print_report(report) # => Total amount: 10  \n",
    "print_report(report_2) # => Total amount: 20 "
   ]
  },
  {
   "cell_type": "markdown",
   "metadata": {},
   "source": [
    "Для разных отчётов вывелись разные значения, хотя объекты создавались из одного класса. Функция print_report делает операцию над отчётом. Так как классы увязывают данные и действия над ними, положим print_report внутрь класса."
   ]
  },
  {
   "cell_type": "code",
   "execution_count": 2,
   "metadata": {},
   "outputs": [
    {
     "name": "stdout",
     "output_type": "stream",
     "text": [
      "Total amount: 10\n",
      "Total amount: 20\n"
     ]
    }
   ],
   "source": [
    "class SalesReport():  \n",
    "    # Наш новый метод внутри класса.  \n",
    "    # Мы определяем его похожим образом с обычными функциями,  \n",
    "    #   но только помещаем внутрь класса и первым аргументом передаём self  \n",
    "    def print_report(self):  \n",
    "        print(\"Total amount:\", self.amount)  \n",
    "          \n",
    "          \n",
    "# Дальше мы применяем report так же, как и в примере выше   \n",
    "report = SalesReport()  \n",
    "report.amount = 10  \n",
    "  \n",
    "report_2 = SalesReport()  \n",
    "report_2.amount = 20  \n",
    "  \n",
    "# Используем наши новые методы  \n",
    "report.print_report() # => Total amount: 10  \n",
    "report_2.print_report() # => Total amount: 20 "
   ]
  },
  {
   "cell_type": "markdown",
   "metadata": {},
   "source": [
    "Мы определили метод внутри класса, и он стал доступен у всех экземпляров этого класса. \n",
    "Методы в целом похожи на обычные функции, но их ключевое отличие — доступ к самому объекту. \n",
    "В методе мы первым аргументом получаем \n",
    "self — в нашем случае это отчёт, что позволяет использовать атрибуты объекта внутри метода, как мы сделали с amount. Self передаётся автоматически. При вызове метода мы не передавали никакие аргументы.\n",
    "\n",
    "Давайте для примера определим ещё пару методов:"
   ]
  },
  {
   "cell_type": "code",
   "execution_count": 9,
   "metadata": {},
   "outputs": [
    {
     "name": "stdout",
     "output_type": "stream",
     "text": [
      "Total sales: 20000.0\n"
     ]
    }
   ],
   "source": [
    "import statistics\n",
    "\n",
    "class SalesReport():  \n",
    "    # Позволим добавлять много разных сделок   \n",
    "    def add_deal(self, amount):   \n",
    "        # На первой сделке создадим список для хранения всех сделок   \n",
    "        if not hasattr(self, 'deals'):  \n",
    "            self.deals = []  \n",
    "        # Добавим текущую сделку  \n",
    "        self.deals.append(amount)  \n",
    "          \n",
    "    # Посчитаем сумму всех сделок      \n",
    "    def total_amount(self):  \n",
    "        return sum(self.deals)  \n",
    "      \n",
    "    def print_report(self):  \n",
    "        print(\"Total sales:\", self.total_amount())  \n",
    "          \n",
    "# Используем наши новые возможности  \n",
    "# Добавим две сделки и распечатаем отчёт  \n",
    "report = SalesReport()  \n",
    "report.add_deal(10_000)  \n",
    "report.add_deal(30_000)  \n",
    "report.print_report() # => Total sales: 40000  "
   ]
  },
  {
   "cell_type": "markdown",
   "metadata": {},
   "source": [
    "Атрибут deals, определённый в одном методе, становится доступен сразу во всех методах класса. Через self становятся доступны и остальные методы, например print_report использует метод total_amount. Это позволяет компактно упаковывать логику внутри класса: внешнее использование становится гораздо лаконичнее."
   ]
  },
  {
   "cell_type": "markdown",
   "metadata": {},
   "source": [
    "Задание 4.1\n",
    "Допишите определение класса DepartmentReport, который выводит отчёт по отделам компании. У него должны быть определены:\n",
    "свойство revenues — список, где мы храним значения выручки отделов;\n",
    "метод add_revenue(), который добавляет выручку одного отдела в список revenues. Если списка revenues еще не существует, метод должен его создавать (проверку наличия атрибута можно выполнить с помощью встроенной функции hasattr());\n",
    "метод average_revenue(), который возвращает среднюю выручку по всем отделам (считает среднее по списку revenues).\n",
    "\n",
    "Пример использования класса:\n",
    "\n",
    "report = DepartmentReport()\n",
    "report.add_revenue(1_000_000)\n",
    "report.add_revenue(400_000)\n",
    "print(report.revenues)\n",
    "# [1000000, 400000]\n",
    "print(report.average_revenue())\n",
    "# 700000.0\n",
    "\n",
    "Обратите внимание, что от вас требуется только объявить класс. Создавать экземпляров класса не нужно!"
   ]
  },
  {
   "cell_type": "code",
   "execution_count": 10,
   "metadata": {},
   "outputs": [
    {
     "name": "stdout",
     "output_type": "stream",
     "text": [
      "[1000000, 400000]\n",
      "700000.0\n"
     ]
    }
   ],
   "source": [
    "#Задание 4.1\n",
    "\n",
    "class DepartmentReport():\n",
    "       \n",
    "    def add_revenue(self, amount):\n",
    "        \"\"\"Метод для добавления выручки отдела в список revenues.\n",
    "        Если атрибута revenues ещё не существует, метод должен создавать пустой список перед добавлением выручки.\n",
    "        \"\"\"\n",
    "        if not hasattr(self, 'revenues'):  \n",
    "            self.revenues = []  \n",
    "\n",
    "        self.revenues.append(amount) \n",
    "    \n",
    "    def average_revenue(self):\n",
    "        return sum(self.revenues)  / len(self.revenues)\n",
    "      \n",
    "    def print_report(self):  \n",
    "        print(\"Total sales:\", self.total_amount())  \n",
    "\n",
    "report = DepartmentReport()\n",
    "report.add_revenue(1_000_000)\n",
    "report.add_revenue(400_000)\n",
    "print(report.revenues)\n",
    "# [1000000, 400000]\n",
    "print(report.average_revenue())\n",
    "# 700000.0"
   ]
  },
  {
   "cell_type": "markdown",
   "metadata": {},
   "source": [
    "МЕТОД _INIT_\n",
    "\n",
    "Мы определили несколько методов в классе SalesReport. С ним есть пара проблем. \n",
    "\n",
    "Если мы вызовем total_amount до add_deal, то список сделок ещё не будет создан, и мы получим ошибку. Также проверка на наличие списка в методе add_deal не кажется оптимальным решением, потому что создать список нужно один раз, а проверять его наличие мы вынуждены на каждой сделке."
   ]
  },
  {
   "cell_type": "code",
   "execution_count": 11,
   "metadata": {},
   "outputs": [
    {
     "ename": "AttributeError",
     "evalue": "'SalesReport' object has no attribute 'deals'",
     "output_type": "error",
     "traceback": [
      "\u001b[1;31m---------------------------------------------------------------------------\u001b[0m",
      "\u001b[1;31mAttributeError\u001b[0m                            Traceback (most recent call last)",
      "\u001b[1;32mUntitled-1.ipynb Cell 11\u001b[0m line \u001b[0;36m1\n\u001b[0;32m     <a href='vscode-notebook-cell:Untitled-1.ipynb?jupyter-notebook#X15sdW50aXRsZWQ%3D?line=10'>11</a>\u001b[0m        \u001b[39mprint\u001b[39m(\u001b[39m\"\u001b[39m\u001b[39mTotal sales:\u001b[39m\u001b[39m\"\u001b[39m, \u001b[39mself\u001b[39m\u001b[39m.\u001b[39mtotal_amount())  \n\u001b[0;32m     <a href='vscode-notebook-cell:Untitled-1.ipynb?jupyter-notebook#X15sdW50aXRsZWQ%3D?line=12'>13</a>\u001b[0m report \u001b[39m=\u001b[39m SalesReport()  \n\u001b[1;32m---> <a href='vscode-notebook-cell:Untitled-1.ipynb?jupyter-notebook#X15sdW50aXRsZWQ%3D?line=13'>14</a>\u001b[0m report\u001b[39m.\u001b[39;49mtotal_amount()  \n\u001b[0;32m     <a href='vscode-notebook-cell:Untitled-1.ipynb?jupyter-notebook#X15sdW50aXRsZWQ%3D?line=14'>15</a>\u001b[0m \u001b[39m# => AttributeError\u001b[39;00m\n",
      "\u001b[1;32mUntitled-1.ipynb Cell 11\u001b[0m line \u001b[0;36m8\n\u001b[0;32m      <a href='vscode-notebook-cell:Untitled-1.ipynb?jupyter-notebook#X15sdW50aXRsZWQ%3D?line=6'>7</a>\u001b[0m \u001b[39mdef\u001b[39;00m \u001b[39mtotal_amount\u001b[39m(\u001b[39mself\u001b[39m):  \n\u001b[1;32m----> <a href='vscode-notebook-cell:Untitled-1.ipynb?jupyter-notebook#X15sdW50aXRsZWQ%3D?line=7'>8</a>\u001b[0m     \u001b[39mreturn\u001b[39;00m \u001b[39msum\u001b[39m(\u001b[39mself\u001b[39;49m\u001b[39m.\u001b[39;49mdeals)\n",
      "\u001b[1;31mAttributeError\u001b[0m: 'SalesReport' object has no attribute 'deals'"
     ]
    }
   ],
   "source": [
    " class SalesReport():  \n",
    "    def add_deal(self, amount):   \n",
    "        if not hasattr(self, 'deals'):  \n",
    "            self.deals = []  \n",
    "        self.deals.append(amount)  \n",
    "          \n",
    "    def total_amount(self):  \n",
    "        return sum(self.deals)  \n",
    "      \n",
    "    def print_report(self):  \n",
    "        print(\"Total sales:\", self.total_amount())  \n",
    "          \n",
    "report = SalesReport()  \n",
    "report.total_amount()  \n",
    "# => AttributeError"
   ]
  },
  {
   "cell_type": "markdown",
   "metadata": {},
   "source": [
    "Обе проблемы решились бы, если задавать атрибутам исходное значение. Для этого у классов есть метод инициализации __init__. Если мы определим метод с таким именем, код в нём вызовется при создании объекта."
   ]
  },
  {
   "cell_type": "code",
   "execution_count": 12,
   "metadata": {},
   "outputs": [
    {
     "name": "stdout",
     "output_type": "stream",
     "text": [
      "[]\n"
     ]
    },
    {
     "data": {
      "text/plain": [
       "0"
      ]
     },
     "execution_count": 12,
     "metadata": {},
     "output_type": "execute_result"
    }
   ],
   "source": [
    "class SalesReport():  \n",
    "    def __init__(self):  \n",
    "        self.deals = []  \n",
    "          \n",
    "    def add_deal(self, amount):   \n",
    "        self.deals.append(amount)  \n",
    "          \n",
    "    def total_amount(self):  \n",
    "        return sum(self.deals)  \n",
    "      \n",
    "    def print_report(self):  \n",
    "        print(\"Total sales:\", self.total_amount())  \n",
    "   \n",
    "report = SalesReport()  \n",
    "print(report.deals)  \n",
    "# => []  \n",
    "report.total_amount()  \n",
    "# => 0 "
   ]
  },
  {
   "cell_type": "markdown",
   "metadata": {},
   "source": [
    "При создании отчёта вызвался __init__, deals определился в нём пустым списком и проблемы ушли. \n",
    "\n",
    "__init__ — это технический метод, поэтому его имя начинается и заканчивается двумя подчёркиваниями. Он получает первым аргументом сам объект, в нём могут выполняться любые операции. Оставшиеся аргументы он получает из вызова при создании: если мы напишем report = SalesReport(\"Info\", 20), то вторым и третьим аргументом в __init__ передадутся \"Info\" и 20."
   ]
  },
  {
   "cell_type": "code",
   "execution_count": 13,
   "metadata": {},
   "outputs": [
    {
     "name": "stdout",
     "output_type": "stream",
     "text": [
      "Manager: Ivan Taranov\n",
      "Total sales: 40000\n"
     ]
    }
   ],
   "source": [
    "class SalesReport():  \n",
    "    # Будем принимать в __init__ ещё и имя менеджера  \n",
    "    def __init__(self, manager_name):  \n",
    "        self.deals = []  \n",
    "        self.manager_name = manager_name  \n",
    "          \n",
    "    def add_deal(self, amount):   \n",
    "        self.deals.append(amount)  \n",
    "          \n",
    "    def total_amount(self):  \n",
    "        return sum(self.deals)  \n",
    "      \n",
    "    def print_report(self):  \n",
    "        # И добавлять это имя в отчёт  \n",
    "        print(\"Manager:\", self.manager_name)  \n",
    "        print(\"Total sales:\", self.total_amount())  \n",
    "          \n",
    "   \n",
    "report = SalesReport(\"Ivan Taranov\")  \n",
    "report.add_deal(10_000)  \n",
    "report.add_deal(30_000)  \n",
    "report.print_report()  \n",
    "# =>   \n",
    "# Manager: Ivan Taranov  \n",
    "# Total sales: 40000"
   ]
  },
  {
   "cell_type": "markdown",
   "metadata": {},
   "source": [
    "Кроме __init__ у классов можно определить ряд технических методов, которые также называют магическими. Дело в том, что они не вызываются напрямую, но позволяют реализовать операции сложения object_1 + object_2 или сравнения object_1 > object_2. \n",
    "\n",
    "Они используются реже __init__, так что мы оставим их за скобками модуля. При желании полный список можно найти в документации.\n",
    "https://docs.python.org/3/reference/datamodel.html#special-method-names"
   ]
  },
  {
   "cell_type": "markdown",
   "metadata": {},
   "source": [
    "Задание 4.2 (External resource)"
   ]
  },
  {
   "cell_type": "markdown",
   "metadata": {},
   "source": [
    "Улучшите класс DepartmentReport, добавив в него инициализатор.\n",
    "\n",
    "Класс при инициализации должен принимать переменную company_name \n",
    "и инициализировать её значением свойства company, \n",
    "а также инициализировать свойство revenues пустым списком.\n",
    "\n",
    "Также модифицируйте метод average_revenue. Теперь он должен возвращать строку следующего вида \n",
    "\"Average department revenue for <company_name>: <average_revenue>\"."
   ]
  },
  {
   "cell_type": "code",
   "execution_count": 23,
   "metadata": {},
   "outputs": [
    {
     "name": "stdout",
     "output_type": "stream",
     "text": [
      "Danon\n",
      "Average department revenue for Danon: 700000\n"
     ]
    }
   ],
   "source": [
    "class DepartmentReport():\n",
    "\n",
    "    def __init__(self, company_name):\n",
    "        \"\"\"Метод инициализации класса. \n",
    "        Создаёт атрибуты revenues и company\"\"\"\n",
    "        self.revenues = []  \n",
    "        self.company = company_name\n",
    "    \n",
    "    def add_revenue(self, amount):\n",
    "        \"\"\"Метод для добавления выручки отдела в список revenues.\n",
    "        Если атрибута revenues ещё не существует, метод должен создавать пустой список перед добавлением выручки.\"\"\"\n",
    "        self.revenues.append(amount)  \n",
    "    \n",
    "    def average_revenue(self):\n",
    "        \"\"\"\n",
    "        Вычисляет average_revenue — среднюю выручку по отделам — округляя до целого.\n",
    "        Метод возвращает строку в формате:\n",
    "        'Average department revenue for <company>: <average_revenue>'\n",
    "        \"\"\"\n",
    "        return \"Average department revenue for \" + self.company +\": \" + str(round(sum(self.revenues)  / len(self.revenues)))\n",
    "\n",
    "report = DepartmentReport(company_name=\"Danon\")\n",
    "print(report.company)\n",
    "# Danon\n",
    "\n",
    "report.add_revenue(1_000_000)\n",
    "report.add_revenue(400_000)\n",
    "\n",
    "print(report.average_revenue())\n",
    "# Average department revenue for Danon: 700000\n"
   ]
  },
  {
   "cell_type": "markdown",
   "metadata": {},
   "source": [
    "КРАТКОЕ РЕЗЮМЕ\n",
    "\n",
    "✔️ Мы рассмотрели базовый синтаксис классов и синтаксис создания объектов. Давайте вспомним некоторые важные моменты:\n",
    "\n",
    "атрибут объекта — это просто его переменная;\n",
    "метод объекта — это его функция;\n",
    "метод объекта автоматически получает первым аргументом сам объект под именем self;\n",
    "класс описывает объект через его атрибуты и методы;\n",
    "мы можем создавать множество экземпляров одного класса, и значения их атрибутов независимы друг от друга;\n",
    "если определить метод __init__, то он будет выполняться при создании объекта;\n",
    "всё это позволяет компактно увязывать данные и логику внутри объекта.\n",
    "Чтобы продемонстрировать, что мы имеем в виду под компактностью, давайте добавим ещё метрик в отчёт. \n",
    "\n",
    "Допустим, теперь мы хотим получать средний размер сделки и список клиентов, из которого исключены повторения (в случае, если компания заключала несколько сделок с одним и тем же клиентом)."
   ]
  },
  {
   "cell_type": "code",
   "execution_count": 24,
   "metadata": {},
   "outputs": [
    {
     "name": "stdout",
     "output_type": "stream",
     "text": [
      "Employee:  Ivan Semenov\n",
      "Total sales: 390000\n",
      "Average sales: 130000.0\n",
      "Companies: ['PepsiCo', 'SkyEng']\n"
     ]
    }
   ],
   "source": [
    " class SalesReport():  \n",
    "    def __init__(self, employee_name):  \n",
    "        self.deals = []  \n",
    "        self.employee_name = employee_name  \n",
    "      \n",
    "    def add_deal(self, company, amount):   \n",
    "        self.deals.append({'company': company, 'amount': amount})  \n",
    "          \n",
    "    def total_amount(self):  \n",
    "        return sum([deal['amount'] for deal in self.deals])  \n",
    "      \n",
    "    def average_deal(self):  \n",
    "        return self.total_amount()/len(self.deals)  \n",
    "      \n",
    "    def all_companies(self):  \n",
    "        return list(set([deal['company'] for deal in self.deals]))  \n",
    "      \n",
    "    def print_report(self):  \n",
    "        print(\"Employee: \", self.employee_name)  \n",
    "        print(\"Total sales:\", self.total_amount())  \n",
    "        print(\"Average sales:\", self.average_deal())  \n",
    "        print(\"Companies:\", self.all_companies())  \n",
    "      \n",
    "      \n",
    "report = SalesReport(\"Ivan Semenov\")  \n",
    "  \n",
    "report.add_deal(\"PepsiCo\", 120_000)  \n",
    "report.add_deal(\"SkyEng\", 250_000)  \n",
    "report.add_deal(\"PepsiCo\", 20_000)  \n",
    "  \n",
    "report.print_report()  \n",
    "# => Employee:  Ivan Semenov  \n",
    "# Total sales: 390000  \n",
    "# Average sales: 130000.0  \n",
    "# Companies: ['PepsiCo', 'SkyEng'] "
   ]
  },
  {
   "cell_type": "code",
   "execution_count": 25,
   "metadata": {},
   "outputs": [],
   "source": [
    "#Задание 4.4\n",
    "\n",
    "class Player():\n",
    "    def play():\n",
    "        print(\"playing\")\n",
    "\n",
    "class Album():\n",
    "    def __init__(self, artist, name):\n",
    "        self.artist = artist\n",
    "        self.name = name"
   ]
  }
 ],
 "metadata": {
  "kernelspec": {
   "display_name": "Python 3",
   "language": "python",
   "name": "python3"
  },
  "language_info": {
   "codemirror_mode": {
    "name": "ipython",
    "version": 3
   },
   "file_extension": ".py",
   "mimetype": "text/x-python",
   "name": "python",
   "nbconvert_exporter": "python",
   "pygments_lexer": "ipython3",
   "version": "3.11.7"
  }
 },
 "nbformat": 4,
 "nbformat_minor": 2
}
