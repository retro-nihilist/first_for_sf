{
 "cells": [
  {
   "cell_type": "markdown",
   "metadata": {},
   "source": [
    "Профессия Data Science\n",
    "Блок 1. Знакомство с данными. Python для анализа данных\n",
    "*PYTHON-15. Принципы ООП в Python и отладка кода\n",
    "6/12   6. Проверка знаний"
   ]
  },
  {
   "cell_type": "markdown",
   "metadata": {},
   "source": [
    "Задание 6.1\n",
    "1/1 point (graded)\n",
    "У вас есть класс DataBase, где метод __init__ принимает один аргумент. Какой код создаст объект этого класса и положит его в переменную db?"
   ]
  },
  {
   "cell_type": "code",
   "execution_count": null,
   "metadata": {},
   "outputs": [],
   "source": [
    "class DataBase:\n",
    "    def __init__(self, argument):\n",
    "        # ваш код инициализации здесь\n",
    "\n",
    "# Создание объекта класса DataBase и положение его в переменную db\n",
    "db = DataBase(your_argument)\n"
   ]
  },
  {
   "cell_type": "markdown",
   "metadata": {},
   "source": [
    "Задание 6.2\n",
    "1/1 point (graded)\n",
    "Чем отличается метод от обычной функции? Выберите все верные варианты.\n",
    "\n",
    "Метод определяется для класса, функция — сама по себе.\n",
    "\n",
    "Метод первым аргументом получает вызывающий его объект.\n"
   ]
  },
  {
   "cell_type": "markdown",
   "metadata": {},
   "source": [
    "Задание 6.3 "
   ]
  },
  {
   "cell_type": "markdown",
   "metadata": {},
   "source": [
    "Определите класс Dog, у которого есть методы bark и give_paw. При этом, пусть методы принимают список из любого количества аргументов.\n",
    "\n",
    "bark возвращает строку \"Bark!\"\n",
    "give_paw возвращает строку \"Paw\""
   ]
  },
  {
   "cell_type": "code",
   "execution_count": 1,
   "metadata": {},
   "outputs": [
    {
     "name": "stdout",
     "output_type": "stream",
     "text": [
      "Bark!\n",
      "Bark!\n",
      "Paw\n",
      "Paw\n"
     ]
    }
   ],
   "source": [
    "class Dog:\n",
    "    def bark(self, *args):\n",
    "        return \"Bark!\"\n",
    "\n",
    "    def give_paw(self, *args):\n",
    "        return \"Paw\"\n",
    "\n",
    "# Пример использования класса\n",
    "my_dog = Dog()\n",
    "\n",
    "# Вызов метода bark без аргументов\n",
    "result_bark = my_dog.bark()\n",
    "print(result_bark)  # Вывод: Bark!\n",
    "\n",
    "# Вызов метода bark с аргументами\n",
    "result_bark_args = my_dog.bark(1, \"woof\", True)\n",
    "print(result_bark_args)  # Вывод: Bark!\n",
    "\n",
    "# Вызов метода give_paw без аргументов\n",
    "result_paw = my_dog.give_paw()\n",
    "print(result_paw)  # Вывод: Paw\n",
    "\n",
    "# Вызов метода give_paw с аргументами\n",
    "result_paw_args = my_dog.give_paw(\"shake\", 3.14, False)\n",
    "print(result_paw_args)  # Вывод: Paw\n"
   ]
  }
 ],
 "metadata": {
  "kernelspec": {
   "display_name": "Python 3",
   "language": "python",
   "name": "python3"
  },
  "language_info": {
   "codemirror_mode": {
    "name": "ipython",
    "version": 3
   },
   "file_extension": ".py",
   "mimetype": "text/x-python",
   "name": "python",
   "nbconvert_exporter": "python",
   "pygments_lexer": "ipython3",
   "version": "3.11.6"
  }
 },
 "nbformat": 4,
 "nbformat_minor": 2
}
