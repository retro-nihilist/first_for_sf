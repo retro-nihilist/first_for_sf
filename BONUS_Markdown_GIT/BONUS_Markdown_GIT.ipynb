{
 "cells": [
  {
   "cell_type": "markdown",
   "metadata": {},
   "source": [
    "Профессия Data Science\n",
    "Блок 1. Знакомство с данными. Python для анализа данных\n",
    "*BONUS. Markdown и GIT для создания портфолио"
   ]
  },
  {
   "cell_type": "markdown",
   "metadata": {},
   "source": [
    "https://apps.skillfactory.ru/learning/course/course-v1:SkillFactory+DSPR-2.0+14JULY2021/block-v1:SkillFactory+DSPR-2.0+14JULY2021+type@sequential+block@e777789cbea140039c35414911bcc179/block-v1:SkillFactory+DSPR-2.0+14JULY2021+type@vertical+block@e50b1d5c27b54d19b3c43b196feb72ec\n"
   ]
  },
  {
   "cell_type": "markdown",
   "metadata": {},
   "source": [
    "Начальная структура проекта будет следующей (в дальнейшем она немного изменится):\n",
    "\n",
    "DataCleaningProject\n",
    "    ├─data\n",
    "\t    └─sber_data.csv\n",
    "    │\n",
    "    └─images\n",
    "         └─boxplot.png\n",
    "         └─data_cleaning.png\n",
    "         └─example_outliers.png\n",
    "\t    └─method_sigm.png\n",
    "    │\n",
    "    └─outliers_lib\n",
    "         └─find_outliers.py\n",
    "         └─README.md\n",
    "    data_cleaning.ipynb\n",
    "Где:\n",
    "\n",
    "data — папка с исходными данными (у нас это данные о квартирах в Москве);\n",
    "images — папка с изображениями, необходимыми для проекта;\n",
    "outliers_lib — папка со вспомогательными модулями для поиска выбросов (find_outliers.py) и описание этих модулей (файл README.md);\n",
    "data_cleaning_example.ipynb — Jupyter-ноутбук, содержащий основной код проекта, в котором демонстрируются методы и подходы решения задач очистки данных.\n",
    "Важное замечание. Весь код, который используется в проекте, мы изучали ранее, поэтому останавливаться на нём подробно мы не будем. Цель этого модуля — не решить новую задачу, а превратить уже решённую в пример проекта. Однако рекомендуем просмотреть ноутбук, чтобы освежить знания."
   ]
  },
  {
   "cell_type": "markdown",
   "metadata": {},
   "source": []
  },
  {
   "cell_type": "markdown",
   "metadata": {},
   "source": [
    "A ![img src=/design/piramida.jpg]()\n",
    "B Незнание очень часто **убивает**.\n",
    "C *Ум* заостряется от *книг*, словно *меч*.\n",
    "D Красота — <вещь> субъективная."
   ]
  },
  {
   "cell_type": "markdown",
   "metadata": {},
   "source": [
    "ЗАДАНИЕ 5.4. (ДЛЯ САМОПРОВЕРКИ)\n",
    "\n",
    "Дана маленькая библиотека, вычисляющая некоторые тригонометрические функции. Директория проекта имеет следующую структуру:\n",
    "\n",
    "mat_lib\n",
    "\n",
    "    ├─docs\n",
    "\n",
    "\t│   └─math_lib_docs.txt\n",
    "\n",
    "    │\n",
    "\n",
    "    └─pyfiles\n",
    "\n",
    "            └─factorial.py\n",
    "\n",
    "            └─test.py\n",
    "\n",
    "            └─trigonometry.py\n",
    "            \n",
    "Назначение каждого из файлов:\n",
    "\n",
    "math_lib_docs.txt — краткая документация по функционалу библиотеки.\n",
    "\n",
    "factorial.py — модуль с функцией factorial(), которая вычисляет факториал переданного числа.\n",
    "\n",
    "trigonometry.py — модуль с тригонометрическими функциями, например sin().\n",
    "\n",
    "test.py — модуль для проверки функционала тригонометрических функций для разных значений углов.\n",
    "\n",
    "Задания:\n",
    "\n",
    "Инициализируйте репозиторий в папке mat_lib.\n",
    "Откройте папку .git/:\n",
    "Узнайте, на что после инициализации репозитория указывает HEAD. Открыть файл HEAD можно с помощью текстового редактора.\n",
    "Найдите в папке ./git файл, на который указывает HEAD (в этом пункте есть подвох).\n",
    "Добавьте все файлы в индекс.\n",
    "Сделайте первый коммит.\n",
    "С помощью команды show посмотрите на данные о совершённом коммите.\n",
    "Проверьте, на что сейчас указывает HEAD.\n",
    "Просмотрите файл, на который указывает HEAD.\n",
    "C помощью команды на Python ./pyfiles/test.py или средствами VS Code запустите файл test.py. Посмотрите на состояние рабочей директории, чтобы убедиться, что появились файлы кэша (папка __pycache__).\n",
    "Сделайте второй коммит, предварительно добавив новые файлы в индекс.\n",
    "Посмотрите на информацию о коммите.\n",
    "Посмотрите, на что сейчас указывает HEAD.\n",
    "Проверьте файл, на который указывает HEAD.\n",
    "Отметьте изменения второго коммита. Убедитесь, что файлы с кэшем пропали из вашей директории. Вновь посмотрите на содержимое файла HEAD.\n"
   ]
  },
  {
   "cell_type": "markdown",
   "metadata": {},
   "source": []
  },
  {
   "cell_type": "code",
   "execution_count": 1,
   "metadata": {},
   "outputs": [
    {
     "ename": "SyntaxError",
     "evalue": "invalid decimal literal (1400399374.py, line 14)",
     "output_type": "error",
     "traceback": [
      "\u001b[1;36m  Cell \u001b[1;32mIn[1], line 14\u001b[1;36m\u001b[0m\n\u001b[1;33m    git show 5302eac\u001b[0m\n\u001b[1;37m                ^\u001b[0m\n\u001b[1;31mSyntaxError\u001b[0m\u001b[1;31m:\u001b[0m invalid decimal literal\n"
     ]
    }
   ],
   "source": [
    "Решение\n",
    "Заходим в папку ./git и открываем файл HEAD. В ней будет находиться ссылка (ref) на файл refs/heads/master. Однако если мы зайдём в папку refs/heads, файла master там не окажется, так как не было совершено ни одного коммита.\n",
    "Добавляем файлы в индекс:\n",
    "\n",
    "git add .\n",
    "Смотрим статус:\n",
    "\n",
    "git status\n",
    "Делаем первый коммит:\n",
    "\n",
    "git commit -m 'first commit'\n",
    "Смотрим на информацию о коммите (ваш хеш может отличаться):\n",
    "\n",
    "git show 5302eac\n",
    "Смотрим на содержимое файла HEAD. Он будет указывать на тот же файл refs/heads/master. Если мы откроем папку refs/heads, то увидим, что файл master появился и его содержимое совпадает с хешем только что сделанного коммита.\n",
    "\n",
    "Выполняем код файла test.py:\n",
    "\n",
    "python ./pyfiles/test.py\n",
    "После выполнения файла в директории pyfiles появится папка __pycache__, которая будет содержать кэш.\n",
    "\n",
    "Добавляем файлы в индекс:\n",
    "\n",
    "git add .\n",
    "Делаем второй коммит:\n",
    "\n",
    "git commit -m 'second commit'\n",
    "Смотрим на информацию о коммите (ваш хеш может отличаться):\n",
    "\n",
    "git show 0417301\n",
    "Смотрим содержимое файла HEAD. Он всё так же указывает на файл refs/heads/master. Открываем его содержимое — теперь там будет указан хеш нашего последнего коммита.\n",
    "\n",
    "Откатываем последний коммит:\n",
    "\n",
    "git revert 0417301"
   ]
  },
  {
   "cell_type": "markdown",
   "metadata": {},
   "source": []
  }
 ],
 "metadata": {
  "kernelspec": {
   "display_name": "Python 3",
   "language": "python",
   "name": "python3"
  },
  "language_info": {
   "codemirror_mode": {
    "name": "ipython",
    "version": 3
   },
   "file_extension": ".py",
   "mimetype": "text/x-python",
   "name": "python",
   "nbconvert_exporter": "python",
   "pygments_lexer": "ipython3",
   "version": "3.11.7"
  }
 },
 "nbformat": 4,
 "nbformat_minor": 2
}
