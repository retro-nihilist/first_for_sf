{
 "cells": [
  {
   "cell_type": "markdown",
   "metadata": {},
   "source": [
    "Профессия Data Science\n",
    "Блок 1. Знакомство с данными. Python для анализа данных\n",
    "PYTHON-14. Очистка данных\n",
    "9/12   8. Закрепление знаний"
   ]
  },
  {
   "cell_type": "markdown",
   "metadata": {},
   "source": [
    "Вам предоставлен набор данных, первоначально полученный в Национальном институте диабета, болезней органов пищеварения и почек. \n",
    "Этот набор данных создан для того, чтобы на основе определённых диагностических измерений предсказать, есть ли у пациента диабет. \n",
    "На выбор этих экземпляров из более крупной базы данных было наложено несколько ограничений. В частности, все пациенты здесь — женщины не моложе 21 года индейского происхождения Пима."
   ]
  },
  {
   "cell_type": "code",
   "execution_count": 1,
   "metadata": {},
   "outputs": [
    {
     "data": {
      "text/html": [
       "<div>\n",
       "<style scoped>\n",
       "    .dataframe tbody tr th:only-of-type {\n",
       "        vertical-align: middle;\n",
       "    }\n",
       "\n",
       "    .dataframe tbody tr th {\n",
       "        vertical-align: top;\n",
       "    }\n",
       "\n",
       "    .dataframe thead th {\n",
       "        text-align: right;\n",
       "    }\n",
       "</style>\n",
       "<table border=\"1\" class=\"dataframe\">\n",
       "  <thead>\n",
       "    <tr style=\"text-align: right;\">\n",
       "      <th></th>\n",
       "      <th>Pregnancies</th>\n",
       "      <th>Glucose</th>\n",
       "      <th>BloodPressure</th>\n",
       "      <th>SkinThickness</th>\n",
       "      <th>Insulin</th>\n",
       "      <th>BMI</th>\n",
       "      <th>DiabetesPedigreeFunction</th>\n",
       "      <th>Age</th>\n",
       "      <th>Outcome</th>\n",
       "      <th>Gender</th>\n",
       "    </tr>\n",
       "  </thead>\n",
       "  <tbody>\n",
       "    <tr>\n",
       "      <th>0</th>\n",
       "      <td>6</td>\n",
       "      <td>98</td>\n",
       "      <td>58</td>\n",
       "      <td>33</td>\n",
       "      <td>190</td>\n",
       "      <td>34.0</td>\n",
       "      <td>0.430</td>\n",
       "      <td>43</td>\n",
       "      <td>0</td>\n",
       "      <td>Female</td>\n",
       "    </tr>\n",
       "    <tr>\n",
       "      <th>1</th>\n",
       "      <td>2</td>\n",
       "      <td>112</td>\n",
       "      <td>75</td>\n",
       "      <td>32</td>\n",
       "      <td>0</td>\n",
       "      <td>35.7</td>\n",
       "      <td>0.148</td>\n",
       "      <td>21</td>\n",
       "      <td>0</td>\n",
       "      <td>Female</td>\n",
       "    </tr>\n",
       "    <tr>\n",
       "      <th>2</th>\n",
       "      <td>2</td>\n",
       "      <td>108</td>\n",
       "      <td>64</td>\n",
       "      <td>0</td>\n",
       "      <td>0</td>\n",
       "      <td>30.8</td>\n",
       "      <td>0.158</td>\n",
       "      <td>21</td>\n",
       "      <td>0</td>\n",
       "      <td>Female</td>\n",
       "    </tr>\n",
       "    <tr>\n",
       "      <th>3</th>\n",
       "      <td>8</td>\n",
       "      <td>107</td>\n",
       "      <td>80</td>\n",
       "      <td>0</td>\n",
       "      <td>0</td>\n",
       "      <td>24.6</td>\n",
       "      <td>0.856</td>\n",
       "      <td>34</td>\n",
       "      <td>0</td>\n",
       "      <td>Female</td>\n",
       "    </tr>\n",
       "    <tr>\n",
       "      <th>4</th>\n",
       "      <td>7</td>\n",
       "      <td>136</td>\n",
       "      <td>90</td>\n",
       "      <td>0</td>\n",
       "      <td>0</td>\n",
       "      <td>29.9</td>\n",
       "      <td>0.210</td>\n",
       "      <td>50</td>\n",
       "      <td>0</td>\n",
       "      <td>Female</td>\n",
       "    </tr>\n",
       "  </tbody>\n",
       "</table>\n",
       "</div>"
      ],
      "text/plain": [
       "   Pregnancies  Glucose  BloodPressure  SkinThickness  Insulin   BMI  \\\n",
       "0            6       98             58             33      190  34.0   \n",
       "1            2      112             75             32        0  35.7   \n",
       "2            2      108             64              0        0  30.8   \n",
       "3            8      107             80              0        0  24.6   \n",
       "4            7      136             90              0        0  29.9   \n",
       "\n",
       "   DiabetesPedigreeFunction  Age  Outcome  Gender  \n",
       "0                     0.430   43        0  Female  \n",
       "1                     0.148   21        0  Female  \n",
       "2                     0.158   21        0  Female  \n",
       "3                     0.856   34        0  Female  \n",
       "4                     0.210   50        0  Female  "
      ]
     },
     "execution_count": 1,
     "metadata": {},
     "output_type": "execute_result"
    }
   ],
   "source": [
    "import pandas as pd\n",
    "import numpy as np\n",
    "import matplotlib.pyplot as plt\n",
    "import seaborn as sns\n",
    "\n",
    "diabetes = pd.read_csv('data/diabetes_data.csv')\n",
    "diabetes.head()"
   ]
  },
  {
   "cell_type": "markdown",
   "metadata": {},
   "source": [
    "Pregnancies — количество беременностей.\n",
    "\n",
    "Glucose — концентрация глюкозы в плазме через два часа при пероральном тесте на толерантность к глюкозе.\n",
    "\n",
    "BloodPressure — диастолическое артериальное давление (мм рт. ст.).\n",
    "\n",
    "SkinThickness — толщина кожной складки трицепса (мм).\n",
    "\n",
    "Insulin — двухчасовой сывороточный инсулин (ме Ед/мл).\n",
    "\n",
    "BMI — индекс массы тела (\n",
    "в\n",
    "е\n",
    "с\n",
    "в\n",
    "к\n",
    "г\n",
    "р\n",
    "о\n",
    "с\n",
    "т\n",
    "в\n",
    "м\n",
    ").\n",
    "\n",
    "DiabetesPedigreeFunction — функция родословной диабета (чем она выше, тем выше шанс наследственной заболеваемости).\n",
    "\n",
    "Age — возраст.\n",
    "\n",
    "Outcome — наличие диабета (0 — нет, 1 — да)."
   ]
  },
  {
   "cell_type": "markdown",
   "metadata": {},
   "source": [
    "\"\"\"Задание 8.1      \n",
    "Начнём с поиска дубликатов в данных. Найдите все повторяющиеся строки в данных и удалите их.\n",
    "Для поиска используйте все признаки в данных. Сколько записей осталось в данных?\"\"\""
   ]
  },
  {
   "cell_type": "code",
   "execution_count": 6,
   "metadata": {},
   "outputs": [
    {
     "name": "stdout",
     "output_type": "stream",
     "text": [
      "Число найденных дубликатов: 10\n"
     ]
    }
   ],
   "source": [
    "dupl_columns = list(diabetes.columns)\n",
    "\n",
    "mask = diabetes.duplicated(subset=dupl_columns)\n",
    "diabetes_duplicates = diabetes[mask]\n",
    "print(f'Число найденных дубликатов: {diabetes_duplicates.shape[0]}')"
   ]
  },
  {
   "cell_type": "code",
   "execution_count": 9,
   "metadata": {},
   "outputs": [
    {
     "name": "stdout",
     "output_type": "stream",
     "text": [
      "Результирующее число записей: 768\n"
     ]
    }
   ],
   "source": [
    "diabetes_dedupped = diabetes.drop_duplicates(subset = dupl_columns)\n",
    "print(f'Результирующее число записей: {diabetes_dedupped.shape[0]}')"
   ]
  },
  {
   "cell_type": "code",
   "execution_count": 13,
   "metadata": {},
   "outputs": [
    {
     "name": "stdout",
     "output_type": "stream",
     "text": [
      "<class 'pandas.core.frame.DataFrame'>\n",
      "Index: 768 entries, 0 to 767\n",
      "Data columns (total 10 columns):\n",
      " #   Column                    Non-Null Count  Dtype  \n",
      "---  ------                    --------------  -----  \n",
      " 0   Pregnancies               768 non-null    int64  \n",
      " 1   Glucose                   768 non-null    int64  \n",
      " 2   BloodPressure             768 non-null    int64  \n",
      " 3   SkinThickness             768 non-null    int64  \n",
      " 4   Insulin                   768 non-null    int64  \n",
      " 5   BMI                       768 non-null    float64\n",
      " 6   DiabetesPedigreeFunction  768 non-null    float64\n",
      " 7   Age                       768 non-null    int64  \n",
      " 8   Outcome                   768 non-null    int64  \n",
      " 9   Gender                    768 non-null    object \n",
      "dtypes: float64(2), int64(7), object(1)\n",
      "memory usage: 66.0+ KB\n"
     ]
    }
   ],
   "source": [
    "diabetes_dedupped.info()"
   ]
  },
  {
   "cell_type": "code",
   "execution_count": 31,
   "metadata": {},
   "outputs": [
    {
     "name": "stdout",
     "output_type": "stream",
     "text": [
      "Gender: 100.0% одинаковых значений\n"
     ]
    }
   ],
   "source": [
    "\"\"\"Задание 8.2\n",
    "Далее найдите все неинформативные признаки в данных и избавьтесь от них.\n",
    "В качестве порога информативности возьмите 0.95: удалите все признаки, для которых 95 %\n",
    "значений повторяются или 95 % записей уникальны. В ответ запишите имена признаков,\n",
    "которые вы нашли (без кавычек).\"\"\"\n",
    "\n",
    "#список неинформативных признаков\n",
    "low_information_cols = [] \n",
    "\n",
    "#цикл по всем столбцам\n",
    "for col in diabetes_dedupped.columns:\n",
    "    #наибольшая относительная частота в признаке\n",
    "    top_freq = diabetes_dedupped[col].value_counts(normalize=True).max()\n",
    "    #доля уникальных значений от размера признака\n",
    "    nunique_ratio = diabetes_dedupped[col].nunique() / diabetes_dedupped[col].count()\n",
    "    # сравниваем наибольшую частоту с порогом\n",
    "    if top_freq > 0.95:\n",
    "        low_information_cols.append(col)\n",
    "        print(f'{col}: {round(top_freq*100, 2)}% одинаковых значений')\n",
    "    # сравниваем долю уникальных значений с порогом\n",
    "    if nunique_ratio > 0.95:\n",
    "        low_information_cols.append(col)\n",
    "        print(f'{col}: {round(nunique_ratio*100, 2)}% уникальных значений')"
   ]
  },
  {
   "cell_type": "code",
   "execution_count": 20,
   "metadata": {},
   "outputs": [
    {
     "name": "stdout",
     "output_type": "stream",
     "text": [
      "     Pregnancies  Glucose  BloodPressure  SkinThickness  Insulin   BMI  \\\n",
      "0              6       98             58             33      190  34.0   \n",
      "1              2      112             75             32        0  35.7   \n",
      "2              2      108             64              0        0  30.8   \n",
      "3              8      107             80              0        0  24.6   \n",
      "4              7      136             90              0        0  29.9   \n",
      "..           ...      ...            ...            ...      ...   ...   \n",
      "763            5      139             64             35      140  28.6   \n",
      "764            1       96            122              0        0  22.4   \n",
      "765           10      101             86             37        0  45.6   \n",
      "766            0      141              0              0        0  42.4   \n",
      "767            0      125             96              0        0  22.5   \n",
      "\n",
      "     DiabetesPedigreeFunction  Age  Outcome  \n",
      "0                       0.430   43        0  \n",
      "1                       0.148   21        0  \n",
      "2                       0.158   21        0  \n",
      "3                       0.856   34        0  \n",
      "4                       0.210   50        0  \n",
      "..                        ...  ...      ...  \n",
      "763                     0.411   26        0  \n",
      "764                     0.207   27        0  \n",
      "765                     1.136   38        1  \n",
      "766                     0.205   29        1  \n",
      "767                     0.262   21        0  \n",
      "\n",
      "[768 rows x 9 columns]\n",
      "Результирующее число признаков: 9\n"
     ]
    }
   ],
   "source": [
    "print(information_diabetes)\n",
    "information_diabetes = diabetes_dedupped.drop(low_information_cols, axis=1)\n",
    "print(f'Результирующее число признаков: {information_diabetes.shape[1]}')"
   ]
  },
  {
   "cell_type": "code",
   "execution_count": 28,
   "metadata": {},
   "outputs": [
    {
     "name": "stdout",
     "output_type": "stream",
     "text": [
      "<class 'pandas.core.frame.DataFrame'>\n",
      "Index: 768 entries, 0 to 767\n",
      "Data columns (total 9 columns):\n",
      " #   Column                    Non-Null Count  Dtype  \n",
      "---  ------                    --------------  -----  \n",
      " 0   Pregnancies               768 non-null    int64  \n",
      " 1   Glucose                   763 non-null    float64\n",
      " 2   BloodPressure             733 non-null    float64\n",
      " 3   SkinThickness             541 non-null    float64\n",
      " 4   Insulin                   394 non-null    float64\n",
      " 5   BMI                       757 non-null    float64\n",
      " 6   DiabetesPedigreeFunction  768 non-null    float64\n",
      " 7   Age                       768 non-null    int64  \n",
      " 8   Outcome                   768 non-null    int64  \n",
      "dtypes: float64(6), int64(3)\n",
      "memory usage: 60.0 KB\n"
     ]
    }
   ],
   "source": [
    "information_diabetes.info()"
   ]
  },
  {
   "cell_type": "code",
   "execution_count": 27,
   "metadata": {},
   "outputs": [
    {
     "name": "stdout",
     "output_type": "stream",
     "text": [
      "Доля пропусков в столбце Insulin: 48.70%\n"
     ]
    }
   ],
   "source": [
    "\"\"\"Задание 8.3 \n",
    "Попробуйте найти пропуски в данных с помощью метода isnull().\n",
    "Спойлер: ничего не найдёте. А они есть! Просто они скрыты от наших глаз.\n",
    " В таблице пропуски в столбцах Glucose, BloodPressure, SkinThickness, Insulin и BMI обозначены нулём, \n",
    " поэтому традиционные методы поиска пропусков ничего вам не покажут. Давайте это исправим!\n",
    "Замените все записи, равные 0, в столбцах Glucose, BloodPressure, SkinThickness, Insulin и BMI\n",
    " на символ пропуска. Его вы можете взять из библиотеки numpy: np.nan.\n",
    "Какая доля пропусков содержится в столбце Insulin? Ответ округлите до сотых.\"\"\"\n",
    "\n",
    "# Заменяем 0 на NaN в указанных столбцах\n",
    "columns_to_replace = ['Glucose', 'BloodPressure', 'SkinThickness', 'Insulin', 'BMI']\n",
    "information_diabetes[columns_to_replace] = diabetes_dedupped[columns_to_replace].replace(0, np.nan)\n",
    "\n",
    "# Рассчитываем долю пропусков в столбце Insulin\n",
    "insulin_missing_percentage = information_diabetes['Insulin'].isna().mean()\n",
    "\n",
    "print(f\"Доля пропусков в столбце Insulin: {insulin_missing_percentage:.2%}\")"
   ]
  },
  {
   "cell_type": "code",
   "execution_count": 29,
   "metadata": {},
   "outputs": [
    {
     "name": "stdout",
     "output_type": "stream",
     "text": [
      "Доля пропусков в столбце Insulin: 48.70%\n"
     ]
    }
   ],
   "source": [
    "def replace_zeros_with_nan(value):\n",
    "    return np.nan if value == 0 else value\n",
    "\n",
    "columns_to_replace = ['Glucose', 'BloodPressure', 'SkinThickness', 'Insulin', 'BMI']\n",
    "\n",
    "for column in columns_to_replace:\n",
    "    information_diabetes[column] = information_diabetes[column].apply(replace_zeros_with_nan)\n",
    "\n",
    "insulin_missing_ratio = information_diabetes['Insulin'].isnull().mean()\n",
    "print(f\"Доля пропусков в столбце Insulin: {insulin_missing_ratio:.2%}\")\n"
   ]
  },
  {
   "cell_type": "code",
   "execution_count": 36,
   "metadata": {},
   "outputs": [
    {
     "name": "stdout",
     "output_type": "stream",
     "text": [
      "Осталось 8 признаков после удаления тех, где более 30% пропусков.\n"
     ]
    }
   ],
   "source": [
    "\"\"\"Задание 8.4      \n",
    "Удалите из данных признаки, где число пропусков составляет более 30 %. \\\n",
    "Сколько признаков осталось в ваших данных (с учетом удаленных неинформативных признаков в задании 8.2)?\n",
    "\"\"\"\n",
    "threshold = len(information_diabetes) * 0.7  # 70% порог\n",
    "df_cleaned = information_diabetes.dropna(thresh=threshold, axis=1)\n",
    "\n",
    "remaining_columns = df_cleaned.shape[1]\n",
    "print(f\"Осталось {remaining_columns} признаков после удаления тех, где более 30% пропусков.\")"
   ]
  },
  {
   "cell_type": "code",
   "execution_count": 39,
   "metadata": {},
   "outputs": [
    {
     "name": "stdout",
     "output_type": "stream",
     "text": [
      "Осталось 761 записей после удаления тех, где более двух пропусков.\n"
     ]
    }
   ],
   "source": [
    "\"\"\"Задание 8.5\n",
    "Удалите из данных только те строки, в которых содержится более двух пропусков одновременно.\n",
    "Чему равно результирующее число записей в таблице?\"\"\"\n",
    "\n",
    "df_cleaned_rows = df_cleaned.dropna(thresh=df_cleaned.shape[1] - 2)\n",
    "\n",
    "remaining_rows = df_cleaned_rows.shape[0]\n",
    "print(f\"Осталось {remaining_rows} записей после удаления тех, где более двух пропусков.\")"
   ]
  },
  {
   "cell_type": "code",
   "execution_count": 40,
   "metadata": {},
   "outputs": [
    {
     "name": "stdout",
     "output_type": "stream",
     "text": [
      "Среднее значение в столбце SkinThickness после замены пропусков на медиану: 29.109067017082786\n"
     ]
    }
   ],
   "source": [
    "\"\"\"Задание 8.6\n",
    "В оставшихся записях замените пропуски на медиану. ему равно среднее значение в столбце SkinThickness?\n",
    "Ответ округлите до десятых.\"\"\"\n",
    "\n",
    "# Замена пропусков на медиану в оставшихся записях\n",
    "df_cleaned_rows_filled = df_cleaned_rows.fillna(df_cleaned_rows.median())\n",
    "\n",
    "# Рассчитываем среднее значение в столбце SkinThickness\n",
    "mean_skin_thickness = df_cleaned_rows_filled['SkinThickness'].mean()\n",
    "\n",
    "print(f\"Среднее значение в столбце SkinThickness после замены пропусков на медиану: {mean_skin_thickness}\")\n"
   ]
  },
  {
   "cell_type": "code",
   "execution_count": 42,
   "metadata": {},
   "outputs": [
    {
     "name": "stdout",
     "output_type": "stream",
     "text": [
      "Количество выбросов в признаке SkinThickness: 87\n"
     ]
    }
   ],
   "source": [
    "\"\"\"Задание 8.7\n",
    "\n",
    "Сколько выбросов найдёт классический метод межквартильного размаха в признаке SkinThickness?\n",
    "\"\"\"\n",
    "# Вычисляем Q1 и Q3\n",
    "Q1 = df_cleaned_rows_filled['SkinThickness'].quantile(0.25)\n",
    "Q3 = df_cleaned_rows_filled['SkinThickness'].quantile(0.75)\n",
    "\n",
    "# Вычисляем IQR\n",
    "IQR = Q3 - Q1\n",
    "\n",
    "# Вычисляем верхнюю и нижнюю границы\n",
    "lower_bound = Q1 - 1.5 * IQR\n",
    "upper_bound = Q3 + 1.5 * IQR\n",
    "\n",
    "# Выявляем выбросы\n",
    "outliers = df_cleaned_rows_filled[(df_cleaned_rows_filled['SkinThickness'] < lower_bound) | (df_cleaned_rows_filled['SkinThickness'] > upper_bound)]\n",
    "\n",
    "# Выводим количество выбросов\n",
    "print(f\"Количество выбросов в признаке SkinThickness: {len(outliers)}\")\n"
   ]
  },
  {
   "cell_type": "code",
   "execution_count": 80,
   "metadata": {},
   "outputs": [
    {
     "name": "stdout",
     "output_type": "stream",
     "text": [
      "Количество выбросов в признаке SkinThickness по z-отклонению: 4\n"
     ]
    }
   ],
   "source": [
    "\"\"\"Задание 8.8\n",
    "Сколько выбросов найдёт классический метод z-отклонения в признаке SkinThickness?\"\"\"\n",
    "\n",
    "import numpy as np\n",
    "\n",
    "# Вычисляем среднее и стандартное отклонение\n",
    "mean_skin_thickness = df_cleaned_rows_filled['SkinThickness'].mean()\n",
    "std_skin_thickness = df_cleaned_rows_filled['SkinThickness'].std()\n",
    "\n",
    "# Задаем порог z-отклонения (обычно используется 3, но можно выбрать другое значение)\n",
    "threshold = 3\n",
    "\n",
    "# Вычисляем верхнюю и нижнюю границы\n",
    "lower_bound = mean_skin_thickness - threshold * std_skin_thickness\n",
    "upper_bound = mean_skin_thickness + threshold * std_skin_thickness\n",
    "\n",
    "# Выявляем выбросы\n",
    "outliers_z_score = df_cleaned_rows_filled[(df_cleaned_rows_filled['SkinThickness'] < lower_bound) \n",
    "                                          | (df_cleaned_rows_filled['SkinThickness'] > upper_bound)]\n",
    "\n",
    "# Выводим количество выбросов\n",
    "print(f\"Количество выбросов в признаке SkinThickness по z-отклонению: {len(outliers_z_score)}\")\n"
   ]
  },
  {
   "cell_type": "markdown",
   "metadata": {},
   "source": [
    "Задание 8.9  "
   ]
  },
  {
   "cell_type": "markdown",
   "metadata": {},
   "source": [
    "\"\"\"Задание 8.9      \n",
    "На приведённой гистограмме показано распределение признака DiabetesPedigreeFunction.\n",
    "Такой вид распределения очень похож на логнормальный, и он заставляет задуматься о логарифмировании признака.\n",
    "Найдите сначала число выбросов в признаке DiabetesPedigreeFunction с помощью классического метода\n",
    "межквартильного размаха.\n",
    "\n",
    "Затем найдите число выбросов в этом же признаке в логарифмическом масштабе\n",
    "(при логарифмировании единицу прибавлять не нужно!). Какова разница между двумя этими числами\n",
    "(вычтите из первого второе)?\"\"\""
   ]
  },
  {
   "cell_type": "code",
   "execution_count": 67,
   "metadata": {},
   "outputs": [
    {
     "name": "stdout",
     "output_type": "stream",
     "text": [
      "Количество выбросов в признаке DiabetesPedigreeFunction: 29\n"
     ]
    }
   ],
   "source": [
    "\"\"\"колько выбросов найдёт классический метод межквартильного размаха в признаке DiabetesPedigreeFunction?\n",
    "\"\"\"\n",
    "# Вычисляем Q1 и Q3\n",
    "Q1 = df_cleaned_rows_filled['DiabetesPedigreeFunction'].quantile(0.25)\n",
    "Q3 = df_cleaned_rows_filled['DiabetesPedigreeFunction'].quantile(0.75)\n",
    "\n",
    "# Вычисляем IQR\n",
    "IQR = Q3 - Q1\n",
    "\n",
    "# Вычисляем верхнюю и нижнюю границы\n",
    "lower_bound = Q1 - 1.5 * IQR\n",
    "upper_bound = Q3 + 1.5 * IQR\n",
    "\n",
    "# Выявляем выбросы\n",
    "outliers = df_cleaned_rows_filled[(df_cleaned_rows_filled['DiabetesPedigreeFunction'] < lower_bound) \n",
    "                                  | (df_cleaned_rows_filled['DiabetesPedigreeFunction'] > upper_bound)]\n",
    "\n",
    "# Выводим количество выбросов\n",
    "print(f\"Количество выбросов в признаке DiabetesPedigreeFunction: {len(outliers)}\")"
   ]
  },
  {
   "cell_type": "markdown",
   "metadata": {},
   "source": [
    "\n",
    "\n",
    "\n",
    "\n",
    "\n",
    "\n",
    "\n",
    "\n",
    "\n",
    "\n",
    "\n",
    "\n",
    "\n",
    "\n",
    "\n",
    "\n",
    "\n",
    "\n",
    "                                        "
   ]
  },
  {
   "cell_type": "code",
   "execution_count": 66,
   "metadata": {},
   "outputs": [
    {
     "name": "stdout",
     "output_type": "stream",
     "text": [
      "Количество выбросов в признаке DiabetesPedigreeFunction по межквартильному размаху: 29\n"
     ]
    }
   ],
   "source": [
    "# Вычисляем межквартильный размах\n",
    "Q1 = df_cleaned_rows_filled['DiabetesPedigreeFunction'].quantile(0.25)\n",
    "Q3 = df_cleaned_rows_filled['DiabetesPedigreeFunction'].quantile(0.75)\n",
    "IQR = Q3 - Q1\n",
    "\n",
    "# Определяем границы для выявления выбросов\n",
    "lower_bound = Q1 - 1.5 * IQR\n",
    "upper_bound = Q3 + 1.5 * IQR\n",
    "\n",
    "# Находим выбросы\n",
    "outliers_iqr = df_cleaned_rows_filled[(df_cleaned_rows_filled['DiabetesPedigreeFunction'] < lower_bound)\n",
    "                                      | (df_cleaned_rows_filled['DiabetesPedigreeFunction'] > upper_bound)]\n",
    "\n",
    "# Выводим количество выбросов\n",
    "print(f\"Количество выбросов в признаке DiabetesPedigreeFunction по межквартильному размаху: {len(outliers_iqr)}\")"
   ]
  },
  {
   "cell_type": "code",
   "execution_count": 84,
   "metadata": {},
   "outputs": [
    {
     "name": "stdout",
     "output_type": "stream",
     "text": [
      "Количество выбросов в признаке DiabetesPedigreeFunction_log по межквартильному размаху: 0\n"
     ]
    }
   ],
   "source": [
    "df_cleaned_rows_filled['DiabetesPedigreeFunction_log'] = np.log(df_cleaned_rows_filled['DiabetesPedigreeFunction'])\n",
    "\n",
    "# Вычисляем межквартильный размах\n",
    "Q1 = df_cleaned_rows_filled['DiabetesPedigreeFunction_log'].quantile(0.25)\n",
    "Q3 = df_cleaned_rows_filled['DiabetesPedigreeFunction_log'].quantile(0.75)\n",
    "IQR = Q3 - Q1\n",
    "\n",
    "# Определяем границы для выявления выбросов\n",
    "lower_bound = Q1 - 1.5 * IQR\n",
    "upper_bound = Q3 + 1.5 * IQR\n",
    "\n",
    "# Находим выбросы\n",
    "outliers_iqr = df_cleaned_rows_filled[(df_cleaned_rows_filled['DiabetesPedigreeFunction_log'] < lower_bound)\n",
    "                                      | (df_cleaned_rows_filled['DiabetesPedigreeFunction_log'] > upper_bound)]\n",
    "\n",
    "# Выводим количество выбросов\n",
    "print(f\"Количество выбросов в признаке DiabetesPedigreeFunction_log по межквартильному размаху: {len(outliers_iqr)}\")\n"
   ]
  },
  {
   "cell_type": "code",
   "execution_count": 71,
   "metadata": {},
   "outputs": [
    {
     "data": {
      "image/png": "[encoded data removed]",
      "text/plain": [
       "<Figure size 1500x400 with 2 Axes>"
      ]
     },
     "metadata": {},
     "output_type": "display_data"
    }
   ],
   "source": [
    "fig, axes = plt.subplots(1, 2, figsize=(15, 4))\n",
    "\n",
    "#гистограмма исходного признака\n",
    "histplot = sns.histplot(df_cleaned_rows_filled[\"DiabetesPedigreeFunction\"], bins=30, ax=axes[0])\n",
    "histplot.set_title(column);\n",
    "\n",
    "#гистограмма в логарифмическом масштабе\n",
    "log_= np.log(df_cleaned_rows_filled[\"DiabetesPedigreeFunction\"])\n",
    "histplot = sns.histplot(log_ , bins=30, ax=axes[1])\n",
    "histplot.set_title(\"log \"+ \"DiabetesPedigreeFunction\");"
   ]
  },
  {
   "cell_type": "code",
   "execution_count": 72,
   "metadata": {},
   "outputs": [
    {
     "name": "stdout",
     "output_type": "stream",
     "text": [
      "Количество выбросов в признаке DiabetesPedigreeFunction в логарифмическом масштабе: 12\n",
      "Разница между выбросами в логарифмическом масштабе и обычном: 17\n"
     ]
    }
   ],
   "source": [
    "\"\"\"Теперь, чтобы найти количество выбросов в логарифмическом масштабе, вы\n",
    " можете использовать следующий код:\"\"\"\n",
    "# Применяем логарифмирование\n",
    "df_cleaned_rows_filled['DiabetesPedigreeFunction_log'] = np.log1p(df_cleaned_rows_filled['DiabetesPedigreeFunction'])\n",
    "\n",
    "# Вычисляем межквартильный размах для логарифмированного признака\n",
    "Q1_log = df_cleaned_rows_filled['DiabetesPedigreeFunction_log'].quantile(0.25)\n",
    "Q3_log = df_cleaned_rows_filled['DiabetesPedigreeFunction_log'].quantile(0.75)\n",
    "IQR_log = Q3_log - Q1_log\n",
    "\n",
    "# Определяем границы для выявления выбросов в логарифмическом масштабе\n",
    "lower_bound_log = Q1_log - 1.5 * IQR_log\n",
    "upper_bound_log = Q3_log + 1.5 * IQR_log\n",
    "\n",
    "# Находим выбросы в логарифмическом масштабе\n",
    "outliers_iqr_log = df_cleaned_rows_filled[\n",
    "    (df_cleaned_rows_filled['DiabetesPedigreeFunction_log'] < lower_bound_log) |\n",
    "    (df_cleaned_rows_filled['DiabetesPedigreeFunction_log'] > upper_bound_log)\n",
    "]\n",
    "\n",
    "# Выводим количество выбросов в логарифмическом масштабе\n",
    "print(f\"Количество выбросов в признаке DiabetesPedigreeFunction в логарифмическом масштабе: {len(outliers_iqr_log)}\")\n",
    "\n",
    "\n",
    "\"\"\"Разницу между двумя числами можно найти вычитанием из первого второго:\"\"\"\n",
    "difference = len(outliers_iqr) - len(outliers_iqr_log)\n",
    "print(f\"Разница между выбросами в логарифмическом масштабе и обычном: {difference}\")\n",
    "\n"
   ]
  },
  {
   "cell_type": "code",
   "execution_count": 56,
   "metadata": {},
   "outputs": [],
   "source": [
    "l=3\n",
    "r=3\n",
    "data = df_cleaned_rows_filled\n",
    "column = 'DiabetesPedigreeFunction'"
   ]
  },
  {
   "cell_type": "code",
   "execution_count": 59,
   "metadata": {},
   "outputs": [
    {
     "data": {
      "image/png": "[encoded data removed]",
      "text/plain": [
       "<Figure size 800x400 with 1 Axes>"
      ]
     },
     "metadata": {},
     "output_type": "display_data"
    }
   ],
   "source": [
    "fig, ax = plt.subplots(1, 1, figsize=(8, 4))\n",
    "log_data = np.log(data[column] + 1)\n",
    "histplot = sns.histplot(log_data, bins=30, ax=ax)\n",
    "histplot.axvline(log_data.mean(), color='k', lw=2)\n",
    "histplot.axvline(log_data.mean()+ 3 * log_data.std(), color='k', ls='--', lw=2)\n",
    "histplot.axvline(log_data.mean()- 3 * log_data.std(), color='k', ls='--', lw=2)\n",
    "histplot.set_title(column);"
   ]
  },
  {
   "cell_type": "code",
   "execution_count": 79,
   "metadata": {},
   "outputs": [
    {
     "name": "stdout",
     "output_type": "stream",
     "text": [
      "Число выбросов по методу z-отклонения: 9\n",
      "Результирующее число записей: 752\n",
      "[1.699 2.329 1.731 2.42  1.893 1.698 2.137 2.288 1.781]\n"
     ]
    },
    {
     "data": {
      "image/png": "[encoded data removed]",
      "text/plain": [
       "<Figure size 800x400 with 1 Axes>"
      ]
     },
     "metadata": {},
     "output_type": "display_data"
    }
   ],
   "source": [
    "#Задание 8.9\n",
    "\n",
    "def def_outliers_bar_chart(data, feature, log_scale=True, left = 3, right = 3):\n",
    "    if log_scale:\n",
    "        x = np.log(data[feature]+1)\n",
    "    else:\n",
    "        x = data[feature]\n",
    "    mu = x.mean()\n",
    "    sigma = x.std()\n",
    "    lower_bound = mu - left * sigma\n",
    "    upper_bound = mu + right * sigma\n",
    "    outliers = data[(x < lower_bound) | (x > upper_bound)]\n",
    "    cleaned = data[(x >= lower_bound) & (x <= upper_bound)]\n",
    "    return outliers, cleaned\n",
    "\n",
    "#Применим эту функцию к таблице sber_data и признаку mkad_km, а также выведем размерности результатов:\n",
    "outliers, cleaned = def_outliers_bar_chart(data, column, log_scale=True, left = l,  right = r)\n",
    "print(f'Число выбросов по методу z-отклонения: {outliers.shape[0]}')\n",
    "print(f'Результирующее число записей: {cleaned.shape[0]}')\n",
    "print(outliers[column].unique())\n",
    "\n",
    "fig, ax = plt.subplots(1, 1, figsize=(8, 4))\n",
    "log_mkad_km = np.log(data[column] + 1)\n",
    "histplot = sns.histplot(log_mkad_km, bins=30, ax=ax)\n",
    "histplot.axvline(log_mkad_km.mean(), color='k', lw=2)\n",
    "histplot.axvline(log_mkad_km.mean()+ r * log_mkad_km.std(), color='k', ls='--', lw=2)\n",
    "histplot.axvline(log_mkad_km.mean()- l * log_mkad_km.std(), color='k', ls='--', lw=2)\n",
    "histplot.set_title('Log MKAD Km Distribution');\n"
   ]
  }
 ],
 "metadata": {
  "kernelspec": {
   "display_name": "Python 3",
   "language": "python",
   "name": "python3"
  },
  "language_info": {
   "codemirror_mode": {
    "name": "ipython",
    "version": 3
   },
   "file_extension": ".py",
   "mimetype": "text/x-python",
   "name": "python",
   "nbconvert_exporter": "python",
   "pygments_lexer": "ipython3",
   "version": "3.11.7"
  }
 },
 "nbformat": 4,
 "nbformat_minor": 2
}
