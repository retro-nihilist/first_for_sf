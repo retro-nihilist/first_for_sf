{
 "cells": [
  {
   "cell_type": "code",
   "execution_count": 30,
   "metadata": {},
   "outputs": [
    {
     "name": "stdout",
     "output_type": "stream",
     "text": [
      "<class 'pandas.core.frame.DataFrame'>\n",
      "RangeIndex: 1000 entries, 0 to 999\n",
      "Data columns (total 8 columns):\n",
      " #   Column                       Non-Null Count  Dtype \n",
      "---  ------                       --------------  ----- \n",
      " 0   gender                       1000 non-null   object\n",
      " 1   race/ethnicity               1000 non-null   object\n",
      " 2   parental level of education  1000 non-null   object\n",
      " 3   lunch                        1000 non-null   object\n",
      " 4   test preparation course      1000 non-null   object\n",
      " 5   math score                   1000 non-null   int64 \n",
      " 6   reading score                1000 non-null   int64 \n",
      " 7   writing score                1000 non-null   int64 \n",
      "dtypes: int64(3), object(5)\n",
      "memory usage: 62.6+ KB\n"
     ]
    }
   ],
   "source": [
    "import os\n",
    "import pandas as pd\n",
    "print_id =1\n",
    "os.chdir(r'C:\\unique_data\\rep_fo_sf\\PYTHON_10_Pandas\\data')\n",
    "students_data = pd.read_csv('students_performance.csv', sep= \",\")\n",
    "#students_data.head()\n",
    "students_data.info()"
   ]
  },
  {
   "cell_type": "code",
   "execution_count": 10,
   "metadata": {},
   "outputs": [
    {
     "name": "stdout",
     "output_type": "stream",
     "text": [
      "88\n"
     ]
    }
   ],
   "source": [
    "\"\"\"Задание 9.2\n",
    "1 point possible (graded)\n",
    "Каков балл по письму у студента под индексом 155?\"\"\"\n",
    "print(students_data.at[155, \"writing score\"])"
   ]
  },
  {
   "cell_type": "code",
   "execution_count": 12,
   "metadata": {},
   "outputs": [
    {
     "name": "stdout",
     "output_type": "stream",
     "text": [
      "342.7705078125\n"
     ]
    }
   ],
   "source": [
    "\"\"\"Задание 9.5\n",
    "0/1 point (graded)\n",
    "Какой объём памяти (в килобайтах) занимает таблица?\"\"\"\n",
    "print(students_data.memory_usage(deep=True).sum() / 1024)"
   ]
  },
  {
   "cell_type": "code",
   "execution_count": 16,
   "metadata": {},
   "outputs": [
    {
     "data": {
      "text/plain": [
       "66.089"
      ]
     },
     "execution_count": 16,
     "metadata": {},
     "output_type": "execute_result"
    }
   ],
   "source": [
    "\"\"\"Задание 9.6\n",
    "1 point possible (graded)\n",
    "Каков у студентов средний балл по математике?\"\"\"\n",
    "students_data[\"math score\"].mean()"
   ]
  },
  {
   "cell_type": "code",
   "execution_count": 17,
   "metadata": {},
   "outputs": [
    {
     "data": {
      "text/plain": [
       "0    group C\n",
       "Name: race/ethnicity, dtype: object"
      ]
     },
     "execution_count": 17,
     "metadata": {},
     "output_type": "execute_result"
    }
   ],
   "source": [
    "\"\"\"Задание 9.7\n",
    "1 point possible (graded)\n",
    "Какая расовая группа является самой крупной в учебном заведении?\n",
    "В качестве ответа введите идентификатор группы (A, B, C, D, F).\"\"\"\n",
    "students_data[\"race/ethnicity\"].mode()"
   ]
  },
  {
   "cell_type": "code",
   "execution_count": 22,
   "metadata": {},
   "outputs": [
    {
     "data": {
      "text/plain": [
       "73.89385474860335"
      ]
     },
     "execution_count": 22,
     "metadata": {},
     "output_type": "execute_result"
    }
   ],
   "source": [
    "\"\"\"Задание 9.8\n",
    "1 point possible (graded)\n",
    "Каков средний балл по чтению у студентов, которые посещали курсы подготовки к экзаменам?\"\"\"\n",
    "students_data[students_data[\"test preparation course\"] == \"completed\"][\"reading score\"].mean()"
   ]
  },
  {
   "cell_type": "code",
   "execution_count": null,
   "metadata": {},
   "outputs": [],
   "source": [
    "\"\"\"Задание 9.9\n",
    "1 point possible (graded)\n",
    "Сколько студентов получили 0 баллов по математике?\"\"\"\n",
    "students_data[students_data[\"math score\"] == 0]"
   ]
  },
  {
   "cell_type": "code",
   "execution_count": 29,
   "metadata": {},
   "outputs": [
    {
     "data": {
      "text/plain": [
       "58.92112676056338"
      ]
     },
     "execution_count": 29,
     "metadata": {},
     "output_type": "execute_result"
    }
   ],
   "source": [
    "\"\"\"Задание 9.10\n",
    "1 point possible (graded)\n",
    "Проверьте гипотезу: у студентов с оплачиваемым питанием средний балл по математике выше, чем у студентов с льготным питанием.\n",
    "В качестве ответа напишите наибольший средний балл по математике среди этих групп студентов.\"\"\"\n",
    "students_data[students_data[\"lunch\"] == \"standard\"][\"math score\"].mean()\n",
    "students_data[students_data[\"lunch\"] == \"free/reduced\"][\"math score\"].mean()"
   ]
  },
  {
   "cell_type": "code",
   "execution_count": 31,
   "metadata": {},
   "outputs": [
    {
     "name": "stdout",
     "output_type": "stream",
     "text": [
      "118\n"
     ]
    }
   ],
   "source": [
    "\"\"\"Задание 9.11\n",
    "1 point possible (graded)\n",
    "Каков процент студентов, родители которых имеют высшее образование уровня бакалавриата (bachelor's degree)?\"\"\"\n",
    "print(len(students_data[students_data[\"parental level of education\"] == \"bachelor's degree\"]))"
   ]
  },
  {
   "cell_type": "code",
   "execution_count": 39,
   "metadata": {},
   "outputs": [
    {
     "name": "stdout",
     "output_type": "stream",
     "text": [
      "-6.0\n"
     ]
    }
   ],
   "source": [
    "\"\"\"Задание 9.12\n",
    "1 point possible (graded)\n",
    "Насколько медианный балл по письму у студентов в расовой группе А\n",
    "отличается от среднего балла по письму у студентов в расовой группе C?\"\"\"\n",
    "print(students_data[students_data[\"race/ethnicity\"] == \"group A\"][\"writing score\"].median() - students_data[students_data[\"race/ethnicity\"] == \"group C\"][\"writing score\"].median())"
   ]
  }
 ],
 "metadata": {
  "kernelspec": {
   "display_name": "Python 3",
   "language": "python",
   "name": "python3"
  },
  "language_info": {
   "codemirror_mode": {
    "name": "ipython",
    "version": 3
   },
   "file_extension": ".py",
   "mimetype": "text/x-python",
   "name": "python",
   "nbconvert_exporter": "python",
   "pygments_lexer": "ipython3",
   "version": "3.11.7"
  }
 },
 "nbformat": 4,
 "nbformat_minor": 2
}
