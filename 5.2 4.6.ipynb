{
 "cells": [
  {
   "cell_type": "code",
   "execution_count": 60,
   "metadata": {},
   "outputs": [
    {
     "name": "stdout",
     "output_type": "stream",
     "text": [
      "{'a': 2.1360009363293826, 'b': 2.692582403567252, 'c': 4.422951503238533, 'perimeter': 9.251534843135168, 'area': 2.1250000000000027}\n",
      "{'a': 3.0, 'b': 4.0, 'c': 5.0, 'perimeter': 12.0, 'area': 6.0}\n"
     ]
    },
    {
     "ename": "ValueError",
     "evalue": "Треугольник не существует",
     "output_type": "error",
     "traceback": [
      "\u001b[1;31m---------------------------------------------------------------------------\u001b[0m",
      "\u001b[1;31mValueError\u001b[0m                                Traceback (most recent call last)",
      "Cell \u001b[1;32mIn[60], line 48\u001b[0m\n\u001b[0;32m     46\u001b[0m \u001b[39mprint\u001b[39m(triangle(p1\u001b[39m=\u001b[39m(\u001b[39m1\u001b[39m, \u001b[39m1\u001b[39m), p2\u001b[39m=\u001b[39m(\u001b[39m1\u001b[39m, \u001b[39m4\u001b[39m), p3\u001b[39m=\u001b[39m(\u001b[39m5\u001b[39m, \u001b[39m1\u001b[39m)))\n\u001b[0;32m     47\u001b[0m \u001b[39m## {'a': 3.0, 'b': 4.0, 'c': 5.0, 'perimeter': 12.0, 'area': 6.0}\u001b[39;00m\n\u001b[1;32m---> 48\u001b[0m \u001b[39mprint\u001b[39m(triangle(p1\u001b[39m=\u001b[39;49m(\u001b[39m2.5\u001b[39;49m, \u001b[39m2\u001b[39;49m), p2\u001b[39m=\u001b[39;49m(\u001b[39m4\u001b[39;49m, \u001b[39m1\u001b[39;49m), p3\u001b[39m=\u001b[39;49m(\u001b[39m1\u001b[39;49m, \u001b[39m3\u001b[39;49m)))\n\u001b[0;32m     49\u001b[0m \u001b[39m## ValueError: Треугольник не существует\u001b[39;00m\n",
      "Cell \u001b[1;32mIn[60], line 37\u001b[0m, in \u001b[0;36mtriangle\u001b[1;34m(p1, p2, p3)\u001b[0m\n\u001b[0;32m     33\u001b[0m     \u001b[39mreturn\u001b[39;00m area\n\u001b[0;32m     35\u001b[0m a, b, c \u001b[39m=\u001b[39m sides(p1, p2, p3)\n\u001b[1;32m---> 37\u001b[0m check_exist_triangle(a, b, c)\n\u001b[0;32m     38\u001b[0m perimeter \u001b[39m=\u001b[39m calculate_perimeter_triangle(a, b, c)\n\u001b[0;32m     39\u001b[0m area \u001b[39m=\u001b[39m calculate_area_triangle(a, b, c)\n",
      "Cell \u001b[1;32mIn[60], line 16\u001b[0m, in \u001b[0;36mtriangle.<locals>.check_exist_triangle\u001b[1;34m(a, b, c)\u001b[0m\n\u001b[0;32m     14\u001b[0m \u001b[39mdef\u001b[39;00m \u001b[39mcheck_exist_triangle\u001b[39m(a, b, c):\n\u001b[0;32m     15\u001b[0m     \u001b[39mif\u001b[39;00m a\u001b[39m+\u001b[39mb\u001b[39m<\u001b[39m\u001b[39m=\u001b[39mc \u001b[39mor\u001b[39;00m b\u001b[39m+\u001b[39mc\u001b[39m<\u001b[39m\u001b[39m=\u001b[39ma \u001b[39mor\u001b[39;00m c\u001b[39m+\u001b[39ma\u001b[39m<\u001b[39m\u001b[39m=\u001b[39mb:\n\u001b[1;32m---> 16\u001b[0m         \u001b[39mraise\u001b[39;00m \u001b[39mValueError\u001b[39;00m(\u001b[39m\"\u001b[39m\u001b[39mТреугольник не существует\u001b[39m\u001b[39m\"\u001b[39m)\n\u001b[0;32m     17\u001b[0m     \u001b[39melse\u001b[39;00m:\n\u001b[0;32m     18\u001b[0m         \u001b[39mpass\u001b[39;00m\n",
      "\u001b[1;31mValueError\u001b[0m: Треугольник не существует"
     ]
    }
   ],
   "source": [
    "def triangle(p1, p2, p3):\n",
    "    \n",
    "    # Функция для вычисления сторон треугольника\n",
    "    # По умолчанию параметры функции берутся из объемлющей области видимости\n",
    "    def sides(p1, p2, p3):\n",
    "        # Распаковываем кортежи для удобства, “;” означает новую строку кода\n",
    "        x1, y1 = p1; x2, y2 = p2; x3, y3 = p3\n",
    "        # Вычисляем стороны по теореме Пифагора\n",
    "        a = ((x2 - x1) ** 2 + (y2 - y1)** 2) ** 0.5\n",
    "        b = ((x3 - x1) ** 2 + (y3 - y1)** 2) ** 0.5\n",
    "        c = ((x3 - x2) ** 2 + (y3 - y2)** 2) ** 0.5\n",
    "        return a, b, c\n",
    "    \n",
    "    def check_exist_triangle(a, b, c):\n",
    "        if a+b<=c or b+c<=a or c+a<=b:\n",
    "            raise ValueError(\"Треугольник не существует\")\n",
    "        else:\n",
    "            pass\n",
    "        \n",
    "    # Функция для вычисления периметра треугольника\n",
    "    def calculate_perimeter_triangle(a, b, c):\n",
    "        # Периметр — сумма всех сторон треугольника\n",
    "        perimeter = a + b + c\n",
    "        return perimeter\n",
    "\n",
    "    # Функция для вычисления площади треугольника\n",
    "    def calculate_area_triangle(a, b, c):\n",
    "        # Вычисляем полупериметр \n",
    "        # Значение perimeter берётся из объемлющей области видимости\n",
    "        p = perimeter / 2\n",
    "        # Вычисляем площадь по формуле Герона\n",
    "        area = (p * (p - a) * (p - b) * (p - c)) ** 0.5\n",
    "        return area\n",
    "    \n",
    "    a, b, c = sides(p1, p2, p3)\n",
    "\n",
    "    check_exist_triangle(a, b, c)\n",
    "    perimeter = calculate_perimeter_triangle(a, b, c)\n",
    "    area = calculate_area_triangle(a, b, c)\n",
    "    result = {'a': a, 'b': b, 'c': c, 'perimeter': perimeter, 'area': area}\n",
    "\n",
    "    return result\n",
    "\n",
    "print(triangle(p1=(2, 2), p2=(4, 1.25), p3=(1, 4.5)))\n",
    "## {'a': 2.1360009363293826, 'b': 2.692582403567252, 'c': 4.422951503238533, 'perimeter': 9.251534843135168, 'area': 2.1250000000000027}\n",
    "print(triangle(p1=(1, 1), p2=(1, 4), p3=(5, 1)))\n",
    "## {'a': 3.0, 'b': 4.0, 'c': 5.0, 'perimeter': 12.0, 'area': 6.0}\n",
    "print(triangle(p1=(2.5, 2), p2=(4, 1), p3=(1, 3)))\n",
    "## ValueError: Треугольник не существует"
   ]
  }
 ],
 "metadata": {
  "kernelspec": {
   "display_name": "Python 3",
   "language": "python",
   "name": "python3"
  },
  "language_info": {
   "codemirror_mode": {
    "name": "ipython",
    "version": 3
   },
   "file_extension": ".py",
   "mimetype": "text/x-python",
   "name": "python",
   "nbconvert_exporter": "python",
   "pygments_lexer": "ipython3",
   "version": "3.11.3"
  },
  "orig_nbformat": 4
 },
 "nbformat": 4,
 "nbformat_minor": 2
}
