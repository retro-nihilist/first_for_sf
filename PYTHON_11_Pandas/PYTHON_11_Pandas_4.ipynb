{
 "cells": [
  {
   "cell_type": "markdown",
   "metadata": {},
   "source": [
    "Задание 4.2\n",
    "1 point possible (graded)\n",
    "Ранее, в задании 3.3, мы создали признак WeekdaySale в таблице melb_df — день недели продажи. Из полученных в задании результатов можно сделать вывод, что объекты недвижимости в Мельбурне продаются преимущественно по выходным (суббота и воскресенье).\n",
    "Напишите функцию (weekdayget_weekend), которая принимает на вход элемент столбца WeekdaySale и возвращает 1, если день является выходным, и 0 — в противном случае, и создайте столбец Weekend в таблице melb_df с помощью неё.\n",
    "\n",
    "Примените эту функцию к столбцу и вычислите среднюю цену объекта недвижимости, проданного в выходные дни. Результат округлите до целых."
   ]
  },
  {
   "cell_type": "code",
   "execution_count": 1,
   "metadata": {},
   "outputs": [
    {
     "name": "stdout",
     "output_type": "stream",
     "text": [
      "<class 'pandas.core.frame.DataFrame'>\n",
      "RangeIndex: 13580 entries, 0 to 13579\n",
      "Data columns (total 23 columns):\n",
      " #   Column         Non-Null Count  Dtype  \n",
      "---  ------         --------------  -----  \n",
      " 0   index          13580 non-null  int64  \n",
      " 1   Suburb         13580 non-null  object \n",
      " 2   Address        13580 non-null  object \n",
      " 3   Rooms          13580 non-null  int64  \n",
      " 4   Type           13580 non-null  object \n",
      " 5   Price          13580 non-null  float64\n",
      " 6   Method         13580 non-null  object \n",
      " 7   SellerG        13580 non-null  object \n",
      " 8   Date           13580 non-null  object \n",
      " 9   Distance       13580 non-null  float64\n",
      " 10  Postcode       13580 non-null  int64  \n",
      " 11  Bedroom        13580 non-null  int64  \n",
      " 12  Bathroom       13580 non-null  int64  \n",
      " 13  Car            13580 non-null  int64  \n",
      " 14  Landsize       13580 non-null  float64\n",
      " 15  BuildingArea   13580 non-null  float64\n",
      " 16  YearBuilt      13580 non-null  int64  \n",
      " 17  CouncilArea    12211 non-null  object \n",
      " 18  Lattitude      13580 non-null  float64\n",
      " 19  Longtitude     13580 non-null  float64\n",
      " 20  Regionname     13580 non-null  object \n",
      " 21  Propertycount  13580 non-null  int64  \n",
      " 22  Coordinates    13580 non-null  object \n",
      "dtypes: float64(6), int64(8), object(9)\n",
      "memory usage: 2.4+ MB\n",
      "1081198.6406956792\n"
     ]
    }
   ],
   "source": [
    "import os\n",
    "import pandas as pd\n",
    "print_id =1\n",
    "os.chdir(r'C:\\unique_data\\rep_fo_sf\\PYTHON_11_Pandas\\data')\n",
    "melb_data_ps = pd.read_csv('melb_data_ps.csv', sep= \",\")\n",
    "melb_data_ps.info()\n",
    "\n",
    "melb_df = melb_data_ps.copy()\n",
    "\n",
    "def weekdayget_weekend(adres):\n",
    "    #print(adres)\n",
    "    if adres > 4:\n",
    "        return 1\n",
    "    else:\n",
    "        return 0\n",
    "\n",
    "#получаем серию с идентификаторами продаж в выходные дни\n",
    "day_types = pd.to_datetime(melb_df['Date'], dayfirst=True).dt.dayofweek.apply(weekdayget_weekend) \n",
    "#print(day_types)\n",
    "melb_df['WEid'] = day_types #добавляем серию в дата фрейм\n",
    "#print(melb_df[melb_df['WEid']==1])\n",
    "#print(melb_df.head(30))\n",
    "WEid_mead = melb_df[melb_df['WEid']==1][\"Price\"].mean()\n",
    "print(WEid_mead)"
   ]
  },
  {
   "cell_type": "markdown",
   "metadata": {},
   "source": [
    "Задание 4.3\n",
    "1 point possible (graded)\n",
    "Преобразуйте столбец SellerG с наименованиями риелторских компаний в таблице melb_df следующим образом: оставьте в столбце только 49 самых популярных компаний, а остальные обозначьте как 'other'.\n",
    "Найдите, во сколько раз минимальная цена объектов недвижимости, проданных компанией 'Nelson', больше минимальной цены объектов, проданных компаниями, обозначенными как 'other'. Ответ округлите до десятых."
   ]
  },
  {
   "cell_type": "code",
   "execution_count": 2,
   "metadata": {},
   "outputs": [],
   "source": [
    "'''реобразуйте столбец SellerG с наименованиями риелторских компаний в таблице melb_df следующим образом: \n",
    "оставьте в столбце только 49 самых популярных компаний'''\n",
    "#print(melb_df['SellerG'].nunique())\n",
    "SellerG = melb_df['SellerG']\n",
    "#display(SellerG.value_counts())\n",
    "popular_SellerG =SellerG.value_counts().nlargest(49).index\n",
    "#print(popular_SellerG)"
   ]
  },
  {
   "cell_type": "code",
   "execution_count": 3,
   "metadata": {},
   "outputs": [],
   "source": [
    "\"\"\"а остальные обозначьте как 'other'.\"\"\"\n",
    "melb_df['popular_SellerG'] = SellerG.apply(lambda x: x if x in popular_SellerG else 'other')\n",
    "#display(melb_df['popular_SellerG'])"
   ]
  },
  {
   "cell_type": "code",
   "execution_count": 4,
   "metadata": {},
   "outputs": [
    {
     "name": "stdout",
     "output_type": "stream",
     "text": [
      "1.297709923664122\n"
     ]
    }
   ],
   "source": [
    "\"\"\"Найдите, во сколько раз минимальная цена объектов недвижимости, проданных компанией 'Nelson',\n",
    "больше минимальной цены объектов, проданных компаниями, обозначенными как 'other'. Ответ округлите до десятых.\"\"\"\n",
    "diff_min_prise = melb_df[melb_df[\"popular_SellerG\"] == 'Nelson'][\"Price\"].min() / melb_df[melb_df[\"popular_SellerG\"] == 'other'][\"Price\"].min()\n",
    "print(diff_min_prise)\n"
   ]
  },
  {
   "cell_type": "markdown",
   "metadata": {},
   "source": [
    "Задание 4.4 (External resource)\n",
    "Представьте, что вы занимаетесь подготовкой данных о вакансиях с платформы hh.ru. В вашем распоряжении имеется таблица, в которой с помощью парсинга собраны резюме кандидатов. В этой таблице есть текстовый столбец «Опыт работы». Пример такого столбца представлен ниже в виде объекта Series. Структура текста в столбце фиксирована и не может измениться.\n",
    "\n",
    "Напишите функцию get_experience(arg), аргументом которой является строка столбца с опытом работы. Функция должна возвращать опыт работы в месяцах. Не забудьте привести результат к целому числу.\n",
    "\n",
    "Примечание. Обратите внимание, что опыт работы может выражаться только в годах или только в месяцах. Учтите это при построении своей функции.\n",
    "\n",
    "При проверке мы будем применять вашу функцию к разным Series с помощью метода apply()."
   ]
  },
  {
   "cell_type": "code",
   "execution_count": 5,
   "metadata": {},
   "outputs": [],
   "source": [
    "# Создаем список строк с опытом работы\n",
    "experience = ['Опыт работы 8 лет 3 месяца', 'Опыт работы 3 года 5 месяцев', 'Опыт работы 1 год 9 месяцев', 'Опыт работы 3 месяца', 'Опыт работы 6 лет']\n",
    "\n",
    "# Создаем серию из списка\n",
    "experience_series = pd.Series(experience, name='Опыт работы')"
   ]
  },
  {
   "cell_type": "code",
   "execution_count": 6,
   "metadata": {},
   "outputs": [
    {
     "name": "stdout",
     "output_type": "stream",
     "text": [
      "0    99\n",
      "1    41\n",
      "2    21\n",
      "3     3\n",
      "4    72\n",
      "Name: Опыт работы, dtype: int64\n"
     ]
    }
   ],
   "source": [
    "def get_experience(arg):\n",
    "    arg_split = arg.split()\n",
    "    #print(len(arg_split))\n",
    "    #print(arg_split[3])\n",
    "    if len(arg_split) == 4:\n",
    "        if arg_split[3][0] == \"м\":\n",
    "            return int(arg_split[2])\n",
    "        if arg_split[3][0] == \"л\":\n",
    "            return int(arg_split[2]) * 12\n",
    "\n",
    "    elif len(arg.split()) == 6:\n",
    "        if arg_split[3][0] == \"л\" or \"г\":\n",
    "            return int(arg_split[2]) * 12 + int(arg_split[4])\n",
    "    else: return \"error\"\n",
    "\n",
    "\n",
    "\n",
    "months = experience_series.apply(get_experience)\n",
    "print(months)\n",
    "    "
   ]
  }
 ],
 "metadata": {
  "kernelspec": {
   "display_name": "Python 3",
   "language": "python",
   "name": "python3"
  },
  "language_info": {
   "codemirror_mode": {
    "name": "ipython",
    "version": 3
   },
   "file_extension": ".py",
   "mimetype": "text/x-python",
   "name": "python",
   "nbconvert_exporter": "python",
   "pygments_lexer": "ipython3",
   "version": "3.11.6"
  }
 },
 "nbformat": 4,
 "nbformat_minor": 2
}
