{
 "cells": [
  {
   "cell_type": "markdown",
   "metadata": {},
   "source": [
    "PYTHON-11\n",
    "ВВОДНЫЕ ДАННЫЕ ДЛЯ ВЫПОЛНЕНИЯ ЗАДАНИЙ 3.4-3.5\n",
    "Вам представлены данные (в формате csv) об отчётах очевидцев НЛО в США за период с 1930 по 2020 год.\n",
    "В данных есть следующие признаки:\n",
    "\"City\" — город, где был замечен НЛО;\n",
    "\"Colors Reported\" — цвет объекта;\n",
    "\"Shape Reported\" — форма объекта;\n",
    "\"State\" — обозначение штата;\n",
    "\"Time\" — время, когда был замечен НЛО (данные отсортированы от старых наблюдений к новым). \n",
    "Прочитайте данные, сделайте преобразование времени к формату datetime и выполните задания ниже."
   ]
  },
  {
   "cell_type": "code",
   "execution_count": null,
   "metadata": {},
   "outputs": [],
   "source": [
    "\"\"\"Для проверки наличия файла в директории в Python, вы можете использовать модуль os.path.\n",
    "Вот пример кода, который проверяет, существует ли файл в указанной директории:\"\"\"\n",
    "\n",
    "import os# Укажите путь к директории и имя файла\n",
    "directory = \"C:/unique_data/rep_fo_sf/PYTHON_11_Pandas/data\" #\"/путь/к/директории\"\n",
    "file_name = \"ufo.csv\" #\"имя_файла.txt\"\n",
    "file_path = os.path.join(directory, file_name)# Сформируйте полный путь к файлу\n",
    "if os.path.exists(file_path):# Проверьте наличие файла\n",
    "    print(f\"Файл '{file_name}' существует в директории '{directory}'.\")\n",
    "else:\n",
    "    print(f\"Файл '{file_name}' не существует в директории '{directory}'.\")\n",
    "\n",
    "contents = os.listdir(directory) # Получите список файлов и папок в указанной директории\n",
    "\n",
    "for item in contents: # Выведите список содержимого\n",
    "    print(item)\n"
   ]
  },
  {
   "cell_type": "code",
   "execution_count": null,
   "metadata": {},
   "outputs": [],
   "source": [
    "import pandas as pd\n",
    "os.chdir(r'C:\\unique_data\\rep_fo_sf\\PYTHON_11_Pandas\\data')\n",
    "ufo_data = pd.read_csv('ufo.csv', sep= \",\")\n",
    "ufo_data.info()\n",
    "\n",
    "ufo_df = ufo_data.copy()\n",
    "ufo_df.head()"
   ]
  },
  {
   "cell_type": "code",
   "execution_count": null,
   "metadata": {},
   "outputs": [],
   "source": [
    "\"\"\"Задание 3.4\n",
    "1 point possible (graded)\n",
    "В каком году отмечается наибольшее количество случаев наблюдения НЛО в США?\"\"\"\n",
    "year = pd.to_datetime(ufo_df[\"Time\"]).dt.year.mode()\n",
    "print(year)"
   ]
  },
  {
   "cell_type": "code",
   "execution_count": null,
   "metadata": {},
   "outputs": [],
   "source": [
    "\"\"\"Задание 3.5\n",
    "1 point possible (graded)\n",
    "Найдите средний интервал времени (в днях) между двумя последовательными случаями\n",
    "наблюдения НЛО в штате Невада (NV).\n",
    "---\n",
    "Чтобы выделить дату из столбца Time, можно воспользоваться атрибутом datetime date.\n",
    "Чтобы вычислить разницу между двумя соседними датами в столбце, примените к нему метод diff().\n",
    "Чтобы перевести интервал времени в дни, воспользуйтесь атрибутом timedelta days.\"\"\"\n",
    "\n",
    "ufo_df['Time'] = pd.to_datetime(ufo_df['Time'], format=\"%m/%d/%Y %H:%M\")\n",
    "\n",
    "ufo_df = ufo_df.sort_values(by='Time')\n",
    "\n",
    "# Создаем новый столбец 'Date' с выделенными датами (без времени)\n",
    "ufo_df['Date'] = ufo_df['Time'].dt.date\n",
    "\n",
    "print(ufo_df[ufo_df['State']=='NV']['Date'].diff().dt.days.mean())\n",
    "print(ufo_df[ufo_df['State']=='NV'])\n",
    "\n",
    "filtered_ufo_df = ufo_df[ufo_df[\"State\"] == \"NV\"]\n",
    "print(filtered_ufo_df)\n",
    "\n",
    "# Вычислим разницу во времени между последовательными случаями в столбце 'Time'\n",
    "time_intervals = filtered_ufo_df['Date'].diff()\n",
    "#print(time_intervals)\n",
    "\n",
    "# Рассчитаем средний интервал времени в днях\n",
    "average_interval_days = time_intervals.mean()\n",
    "print(average_interval_days)"
   ]
  }
 ],
 "metadata": {
  "kernelspec": {
   "display_name": "Python 3",
   "language": "python",
   "name": "python3"
  },
  "language_info": {
   "codemirror_mode": {
    "name": "ipython",
    "version": 3
   },
   "file_extension": ".py",
   "mimetype": "text/x-python",
   "name": "python",
   "nbconvert_exporter": "python",
   "pygments_lexer": "ipython3",
   "version": "3.11.6"
  }
 },
 "nbformat": 4,
 "nbformat_minor": 2
}
