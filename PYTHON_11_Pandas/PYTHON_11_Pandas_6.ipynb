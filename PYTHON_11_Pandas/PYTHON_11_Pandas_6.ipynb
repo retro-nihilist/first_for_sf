{
 "cells": [
  {
   "cell_type": "code",
   "execution_count": null,
   "metadata": {},
   "outputs": [],
   "source": [
    "import os\n",
    "import pandas as pd\n",
    "print_id =1\n",
    "os.chdir(r'C:\\unique_data\\rep_fo_sf\\PYTHON_11_Pandas\\data')\n",
    "citibike_tripdata = pd.read_csv('citibike-tripdata.csv', sep= \",\")\n",
    "citibike_tripdata.info()\n",
    "tripdata_df = citibike_tripdata.copy()\n",
    "tripdata_df.head()"
   ]
  },
  {
   "cell_type": "markdown",
   "metadata": {},
   "source": [
    "starttime — время начала поездки (дата, время);\n",
    "stoptime — время окончания поездки (дата, время);\n",
    "start station id — идентификатор стартовой стоянки;\n",
    "start station name — название стартовой стоянки;\n",
    "start station latitude, start station longitude — географическая широта и долгота стартовой стоянки;\n",
    "end station id — идентификатор конечной стоянки;\n",
    "end station name — название конечной стоянки;\n",
    "end station latitude, end station longitude — географическая широта и долгота конечной стоянки;\n",
    "bikeid — идентификатор велосипеда;\n",
    "usertype — тип пользователя (Customer — клиент с подпиской на 24 часа или на три дня, Subscriber — подписчик с годовой арендой велосипеда);\n",
    "birth year — год рождения клиента;\n",
    "gender — пол клиента (0 — неизвестный, 1 — мужчина, 2 — женщина)."
   ]
  },
  {
   "cell_type": "code",
   "execution_count": null,
   "metadata": {},
   "outputs": [],
   "source": [
    "\"\"\"Задание 6.3 Найдите идентификатор самой популярной стартовой стоянки. Запишите идентификатор в виде целого числа.\"\"\"\n",
    "print(tripdata_df[\"start station id\"].mode())"
   ]
  },
  {
   "cell_type": "code",
   "execution_count": null,
   "metadata": {},
   "outputs": [],
   "source": [
    "\"\"\"Задание 6.4 Велосипед с каким идентификатором является самым популярным?\"\"\"\n",
    "print(tripdata_df[\"bikeid\"].mode())"
   ]
  },
  {
   "cell_type": "code",
   "execution_count": null,
   "metadata": {},
   "outputs": [],
   "source": [
    "\"\"\"Задание 6.5 Какой тип клиентов (столбец usertype) является преобладающим — Subscriber или Customer?\n",
    "В качестве ответа запишите долю клиентов преобладающего типа среди общего количества клиентов. Ответ округлите до сотых.(0.77)\"\"\"\n",
    "usertype = tripdata_df['usertype']\n",
    "#display(SellerG.value_counts())\n",
    "popular_usertype =usertype.value_counts()\n",
    "print(popular_usertype)"
   ]
  },
  {
   "cell_type": "code",
   "execution_count": null,
   "metadata": {},
   "outputs": [],
   "source": [
    "\"\"\"Задание 6.6 Кто больше занимается велоспортом — мужчины или женщины? В ответ запишите число поездок для той группы, у которой их больше.\"\"\"\n",
    "gender = tripdata_df['gender']\n",
    "popular_gender = gender.value_counts()\n",
    "print(popular_gender)"
   ]
  },
  {
   "cell_type": "code",
   "execution_count": null,
   "metadata": {},
   "outputs": [],
   "source": [
    "\"\"\"Задание 6.7 Выберите утверждения,которые соответствуют нашим данным:\"\"\"\n",
    "\n",
    "\"\"\"A Число уникальных стартовых и конечных стоянок, которыми воспользовались клиенты, не равны друг другу\"\"\"\n",
    "print(tripdata_df[\"start station id\"].mode() - tripdata_df[\"end station id\"].mode())\n",
    "\n",
    "\"\"\"B В рассматриваемые дни минимальный возраст клиента составлял 10 лет (16)\"\"\"\n",
    "tripdata_df['starttime'] = pd.to_datetime(tripdata_df['starttime'])\n",
    "tripdata_df['starttime_year'] = tripdata_df['starttime'].dt.year\n",
    "tripdata_df['age'] = tripdata_df['starttime_year'] - tripdata_df[\"birth year\"]\n",
    "tripdata_df['age'].min()\n",
    "\n",
    "\"\"\"C Самой непопулярной стартовой стоянкой из тех, которыми воспользовались клиенты, является стоянка с названием \"Eastern Pkwy & Washington Ave\"\"\"\n",
    "start_station_name = tripdata_df['start station name']\n",
    "popular_start_station_name =start_station_name.value_counts()\n",
    "print(popular_start_station_name)\n",
    "\n",
    "\"\"\"D Наибольшее количество поездок завершается на стоянке под названием \"Liberty Light Rail\"\"\"\n",
    "end_station_name = tripdata_df['end station name']\n",
    "popular_end_station_name = end_station_name.value_counts()\n",
    "print(popular_end_station_name)\n",
    "\n",
    "#tripdata_df['age'] = tripdata_df[tripdata_df['starttime'].dt.year - tripdata_df[\"birth year\"]]\n",
    "#print(tripdata_df['years'])\n",
    "\n",
    "#print(tripdata_df[\"starttime\"] - tripdata_df[\"birth year\"].mode())"
   ]
  },
  {
   "cell_type": "code",
   "execution_count": null,
   "metadata": {},
   "outputs": [],
   "source": [
    "\"\"\"Задание 6.9 Замените признак birth year на более понятный признак возраста клиента age.\n",
    "Годом отсчёта возраста выберите 2018 год. Столбец birth year удалите из таблицы. Сколько поездок совершено клиентами старше 60 лет?\"\"\"\n",
    "tripdata_df['starttime'] = pd.to_datetime(tripdata_df['starttime'])\n",
    "tripdata_df['starttime_year'] = tripdata_df['starttime'].dt.year\n",
    "tripdata_df['age'] = tripdata_df['starttime_year'] - tripdata_df[\"birth year\"]\n",
    "#print(tripdata_df['age'])\n",
    "age = tripdata_df['age'].value_counts()\n",
    "age_greater_than_60 = age[age.index > 60].sum()\n",
    "print(age_greater_than_60)"
   ]
  },
  {
   "cell_type": "code",
   "execution_count": null,
   "metadata": {},
   "outputs": [],
   "source": [
    "\"\"\"Задание 6.10\n",
    "1 point possible (graded)\n",
    "Создайте признак длительности поездки trip duration. Для этого вычислите интервал времени между временем окончания поездки (stoptime)\n",
    "и её началом (starttime). Сколько целых минут длилась поездка под индексом 3 в таблице?\"\"\"\n",
    "tripdata_df['stoptime'] = pd.to_datetime(tripdata_df['stoptime'])\n",
    "tripdata_df[\"trip duration\"] = tripdata_df['stoptime'] - tripdata_df['starttime']\n",
    "tripdata_df[\"trip duration\"]"
   ]
  },
  {
   "cell_type": "code",
   "execution_count": null,
   "metadata": {},
   "outputs": [],
   "source": [
    "\"\"\"Задание 6.11 Создайте «признак-мигалку» weekend, который равен 1, если поездка начиналась в выходной день (суббота или воскресенье),\n",
    "и 0 — в противном случае. Выясните, сколько поездок начиналось в выходные.\"\"\"\n",
    "#WeekdaySale = melb_df['Date'].dt.dayofweek\n",
    "#tripdata_df['saturday_sunday'] = \n",
    "saturday_sunday_count = len(tripdata_df[(tripdata_df['starttime'].dt.dayofweek == 5) | (tripdata_df['starttime'].dt.dayofweek == 6)])\n",
    "print(\"Количество строк с датой, соответствующей Субботе и Воскресенью:\", saturday_sunday_count)"
   ]
  },
  {
   "cell_type": "code",
   "execution_count": null,
   "metadata": {},
   "outputs": [],
   "source": [
    "\"\"\"Задание 6.12\n",
    "1 point possible (graded)\n",
    "Создайте признак времени суток поездки time_of_day. Время суток будем определять из часа начала поездки. Условимся, что:\n",
    "поездка совершается ночью (night), если её час приходится на интервал от 0 (включительно) до 6 (включительно) часов;\n",
    "поездка совершается утром (morning), если её час приходится на интервал от 6 (не включительно) до 12 (включительно) часов;\n",
    "поездка совершается днём (day), если её час приходится на интервал от 12 (не включительно) до 18 (включительно) часов;\n",
    "поездка совершается вечером (evening), если её час приходится на интервал от 18 (не включительно) до 23 часов (включительно).\n",
    "Во сколько раз количество поездок, совершённых днём, больше, чем количество поездок, совёршенных ночью, за представленный в\n",
    "данных период времени? Ответ округлите до целых.\"\"\"\n",
    "\"\"\"and tripdata_df['time_of_day'] > 12\"\"\"\n",
    "\n",
    "tripdata_df['time_of_day'] = tripdata_df['starttime'].dt.hour\n",
    "len_1 = len(tripdata_df[tripdata_df['time_of_day'] < 7])\n",
    "#len_2 = len(tripdata_df[tripdata_df['time_of_day'] < 19 & tripdata_df['time_of_day'] > 12])\n",
    "len_2 = len(tripdata_df[(tripdata_df['time_of_day'] < 19) & (tripdata_df['time_of_day'] > 12)])\n",
    "print(len_2/len_1)\n",
    "\n",
    "tripdata_df['time_of_day']"
   ]
  }
 ],
 "metadata": {
  "kernelspec": {
   "display_name": "Python 3",
   "language": "python",
   "name": "python3"
  },
  "language_info": {
   "codemirror_mode": {
    "name": "ipython",
    "version": 3
   },
   "file_extension": ".py",
   "mimetype": "text/x-python",
   "name": "python",
   "nbconvert_exporter": "python",
   "pygments_lexer": "ipython3",
   "version": "3.11.7"
  }
 },
 "nbformat": 4,
 "nbformat_minor": 2
}
