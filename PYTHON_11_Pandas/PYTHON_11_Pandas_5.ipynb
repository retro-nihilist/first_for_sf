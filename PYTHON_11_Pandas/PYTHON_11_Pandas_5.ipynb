{
 "cells": [
  {
   "cell_type": "code",
   "execution_count": null,
   "metadata": {},
   "outputs": [],
   "source": [
    "import os\n",
    "import pandas as pd\n",
    "print_id =1\n",
    "os.chdir(r'C:\\unique_data\\rep_fo_sf\\PYTHON_11_Pandas\\data')\n",
    "melb_data_ps = pd.read_csv('melb_data_ps.csv', sep= \",\")\n",
    "melb_data_ps.info()\n",
    "melb_df = melb_data_ps.copy()\n",
    "memory_usage = melb_df.memory_usage(deep=True).sum()\n",
    "print(memory_usage / (1024*1024))"
   ]
  },
  {
   "cell_type": "code",
   "execution_count": null,
   "metadata": {},
   "outputs": [],
   "source": [
    "\"\"\"КАТЕГОРИИ В ДАННЫХ О НЕДВИЖИМОСТИ\"\"\"\n",
    "# создаём пустой список\n",
    "unique_list = []\n",
    "# пробегаемся по именам столбцов в таблице\n",
    "for col in melb_df.columns:\n",
    "    # создаём кортеж (имя столбца, число уникальных значений)\n",
    "    item = (col, melb_df[col].nunique(), melb_df[col].dtypes)     # добавляем кортеж в список\n",
    "    #print(item)\n",
    "    unique_list.append(item) \n",
    "# создаём вспомогательную таблицу и сортируем её\n",
    "unique_counts = pd.DataFrame(\n",
    "    unique_list,\n",
    "    columns=['Column_Name', 'Num_Unique', 'Type']\n",
    ").sort_values(by='Num_Unique',  ignore_index=True)\n",
    "# выводим её на экран\n",
    "#display(unique_counts)"
   ]
  },
  {
   "cell_type": "markdown",
   "metadata": {},
   "source": [
    "ТИП ДАННЫХ CATEGORY"
   ]
  },
  {
   "cell_type": "code",
   "execution_count": null,
   "metadata": {},
   "outputs": [],
   "source": [
    "display(melb_df.info())"
   ]
  },
  {
   "cell_type": "code",
   "execution_count": null,
   "metadata": {},
   "outputs": [],
   "source": [
    "\"\"\"Сделаем преобразование столбцов к типу данных category:\"\"\"\n",
    "\n",
    "cols_to_exclude = ['Date', 'Rooms', 'Bedroom', 'Bathroom', 'Car'] # список столбцов, которые мы не берём во внимание\n",
    "max_unique_count = 150 # задаём максимальное число уникальных категорий\n",
    "for col in melb_df.columns: # цикл по именам столбцов\n",
    "    if melb_df[col].nunique() < max_unique_count and col not in cols_to_exclude: # проверяем условие\n",
    "        melb_df[col] = melb_df[col].astype('category') # преобразуем тип столбца\n",
    "display(melb_df.info())"
   ]
  },
  {
   "cell_type": "code",
   "execution_count": null,
   "metadata": {},
   "outputs": [],
   "source": [
    "\"\"\"ПОЛУЧЕНИЕ АТРИБУТОВ CATEGORY\"\"\"\n",
    "print(melb_df['Regionname'].cat.categories)\n",
    "display(melb_df['Regionname'].cat.codes)"
   ]
  },
  {
   "cell_type": "markdown",
   "metadata": {},
   "source": [
    "Подробнее ознакомиться с другими возможностями типа данных category можно здесь.\n",
    "https://pandas.pydata.org/pandas-docs/stable/user_guide/categorical.html"
   ]
  },
  {
   "cell_type": "code",
   "execution_count": null,
   "metadata": {},
   "outputs": [],
   "source": [
    "\"\"\"С помощью метода аксессора\n",
    "rename_categories()\n",
    "можно легко переименовать текущие значения категорий.\n",
    "Для этого в данный метод нужно передать словарь, ключи которого — старые имена категорий, а значения — новые.\n",
    "Рассмотрим на примере: переименуем категории признака типа постройки Type — заменим их на полные названия\n",
    "(напомним, u — unit, h — house, t — townhouse).\n",
    "\"\"\"\n",
    "melb_df['Type'] = melb_df['Type'].cat.rename_categories({\n",
    "    'u': 'unit',\n",
    "    't': 'townhouse',\n",
    "    'h': 'house'\n",
    "})\n",
    "display(melb_df['Type'])"
   ]
  },
  {
   "cell_type": "code",
   "execution_count": null,
   "metadata": {},
   "outputs": [],
   "source": [
    "\"\"\"ПОДВОДНЫЕ КАМНИ\n",
    "А теперь представим ситуацию, что появилась новая партия домов и теперь мы продаём и квартиры (flat).\n",
    "Создадим объект Series new_houses_types, в котором будем хранить типы зданий новой партии домов.\n",
    "Преобразуем тип new_houses_types в такой же тип, как и у столбца Type в таблице melb_data,\n",
    "и выведем результат на экран:\"\"\"\n",
    "\n",
    "new_houses_types = pd.Series(['unit', 'house', 'flat', 'flat', 'house'])\n",
    "print(new_houses_types)\n",
    "new_houses_types = new_houses_types.astype(melb_df['Type'].dtype)\n",
    "display(new_houses_types)\n",
    "\n",
    "\"\"\"вместо квартир получили пустые значения — NaN.\n",
    "На самом деле причина проста: тип данных category хранит только категории,\n",
    "которые были объявлены при его инициализации. При встрече с новой, неизвестной ранее категорией,\n",
    "этот тип превратит её в пустое значение, так как он просто не знает о существовании этой категории.\"\"\""
   ]
  },
  {
   "cell_type": "code",
   "execution_count": null,
   "metadata": {},
   "outputs": [],
   "source": [
    "\"\"\"Можно добавить категорию flat в столбец Type с помощью метода акссесора cat add_categories(),\n",
    "в который достаточно просто передать имя новой категории:\"\"\"\n",
    "\n",
    "melb_df['Type'] = melb_df['Type'].cat.add_categories('flat')\n",
    "new_houses_types = pd.Series(['unit', 'house', 'flat', 'flat', 'house'])\n",
    "new_houses_types = new_houses_types.astype(melb_df['Type'].dtype)\n",
    "display(new_houses_types)"
   ]
  }
 ],
 "metadata": {
  "kernelspec": {
   "display_name": "Python 3",
   "language": "python",
   "name": "python3"
  },
  "language_info": {
   "codemirror_mode": {
    "name": "ipython",
    "version": 3
   },
   "file_extension": ".py",
   "mimetype": "text/x-python",
   "name": "python",
   "nbconvert_exporter": "python",
   "pygments_lexer": "ipython3",
   "version": "3.11.7"
  }
 },
 "nbformat": 4,
 "nbformat_minor": 2
}
